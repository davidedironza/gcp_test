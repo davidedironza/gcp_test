{
 "cells": [
  {
   "cell_type": "code",
   "execution_count": 2,
   "metadata": {},
   "outputs": [],
   "source": [
    "# change these to try this notebook out\n",
    "BUCKET = 'axa-ch-raw-dev-dla'\n",
    "PROJECT = 'axa-ch-datalake-analytics-dev'\n",
    "REGION = 'eu-west6'"
   ]
  },
  {
   "cell_type": "code",
   "execution_count": 3,
   "metadata": {},
   "outputs": [],
   "source": [
    "import os\n",
    "os.environ['BUCKET'] = BUCKET\n",
    "os.environ['PROJECT'] = PROJECT\n",
    "os.environ['REGION'] = REGION"
   ]
  },
  {
   "cell_type": "code",
   "execution_count": 4,
   "metadata": {},
   "outputs": [],
   "source": [
    "#0   Modul-Import & Parametrierung    \n",
    "#0.1 Modul-Import\n",
    "import os\n",
    "import pickle\n",
    "import requests\n",
    "import datetime\n",
    "import pytz\n",
    "import time\n",
    "import traceback\n",
    "import numpy as np\n",
    "import pandas as pd\n",
    "import xml.etree.ElementTree as ET\n",
    "import tempfile\n",
    "import logging\n",
    "from html import unescape\n",
    "from random import randint\n",
    "from google.cloud import bigquery\n",
    "from google.cloud import storage"
   ]
  },
  {
   "cell_type": "code",
   "execution_count": 5,
   "metadata": {},
   "outputs": [],
   "source": [
    "#0.2 Set Stage\n",
    "stage = \"DEV\" #sf.platform_is_server(\"stage\")"
   ]
  },
  {
   "cell_type": "code",
   "execution_count": 6,
   "metadata": {},
   "outputs": [],
   "source": [
    "#0.3 Pfadinformationen\n",
    "path_data_va = \"bindexis/data/various/\"\n",
    "path_data_input = \"bindexis/data/input/\""
   ]
  },
  {
   "cell_type": "code",
   "execution_count": 7,
   "metadata": {},
   "outputs": [],
   "source": [
    "#0.4 Set timezone\n",
    "os.environ['TZ'] = 'Europe/Zurich'\n",
    "time.tzset()"
   ]
  },
  {
   "cell_type": "code",
   "execution_count": 8,
   "metadata": {},
   "outputs": [
    {
     "name": "stdout",
     "output_type": "stream",
     "text": [
      "1.1\n",
      "2019-05-16 12:00:17.495335+02:00\n"
     ]
    }
   ],
   "source": [
    "# 1   Retrieve Bindexis Data\n",
    "#1.1 Access & Authentication Setup\n",
    "print(\"1.1\")\n",
    "username      = \"TIppisch\"\n",
    "time_now      = datetime.datetime.now(pytz.timezone('Europe/Zurich'))\n",
    "\n",
    "client_cs = storage.Client()\n",
    "bucket_cs = client_cs.get_bucket(BUCKET)\n",
    "try:\n",
    "    filename = \"{}/Parameter_TimeLastRun.pkl\".format(tempfile.gettempdir())\n",
    "    #blob = bucket_cs.blob(path_data_va+'Parameter_TimeLastRun.txt')\n",
    "    #time_last_run = blob.download_as_string()\n",
    "    #time_last_run = datetime.datetime.strptime(time_last_run.decode(\"utf-8\")[:-6], \"%Y-%m-%d %H:%M:%S.%f\")\n",
    "    blob = bucket_cs.blob(path_data_va+'Parameter_TimeLastRun.pkl')\n",
    "    blob.download_to_filename(filename)\n",
    "    with open(filename, 'rb') as fp: time_last_run = pickle.load(fp)\n",
    "except:\n",
    "    time_last_run      = time_now + datetime.timedelta(days=-2)\n",
    "\n",
    "print(time_last_run)"
   ]
  },
  {
   "cell_type": "code",
   "execution_count": 9,
   "metadata": {},
   "outputs": [
    {
     "name": "stdout",
     "output_type": "stream",
     "text": [
      "1.2\n"
     ]
    },
    {
     "name": "stderr",
     "output_type": "stream",
     "text": [
      "/home/jupyter/.local/lib/python3.5/site-packages/urllib3/connectionpool.py:847: InsecureRequestWarning: Unverified HTTPS request is being made. Adding certificate verification is strongly advised. See: https://urllib3.readthedocs.io/en/latest/advanced-usage.html#ssl-warnings\n",
      "  InsecureRequestWarning)\n"
     ]
    }
   ],
   "source": [
    "print(\"1.2\")\n",
    "#file = \"../certificates/sas_server_keystore.pem\"\n",
    "data = \"\"\"<soapenv:Envelope xmlns:soapenv=\"http://schemas.xmlsoap.org/soap/envelope/\" xmlns:soap=\"http://soap.bindexis.ch/\">\n",
    "           <soapenv:Header>\n",
    "              <soap:AuthHeader>\n",
    "                 <!--Optional:-->\n",
    "                 <soap:UserName>{0}</soap:UserName>\n",
    "                 <!--Optional:-->\n",
    "                 <soap:Password>{1}</soap:Password>\n",
    "              </soap:AuthHeader>\n",
    "           </soapenv:Header>\n",
    "           <soapenv:Body>\n",
    "              <soap:GetProjectSync>\n",
    "                 <!--Optional:-->\n",
    "                 <soap:dateToStart>{2}</soap:dateToStart>\n",
    "              </soap:GetProjectSync>\n",
    "           </soapenv:Body>\n",
    "        </soapenv:Envelope>\"\"\".format(username, \"19e22172\", time_last_run.strftime(\"%Y-%m-%dT%H:%M:%S\"))\n",
    "\n",
    "response = requests.post(url     = \"https://soap.bindexis.ch/projectsync.asmx\",\n",
    "#response = requests.post(url     = \"https://esg-opco.medc.services.axa-tech.intraxa:8443/AXACH_BindexisWebService\",\n",
    "#response = requests.post(url = \"https://172.20.205.126:8443/AXACH_BindexisWebService\",\n",
    "                         headers = {'content-type': 'text/xml'},\n",
    "                         #cert    = file,\n",
    "                         data    = data,\n",
    "                         verify  = False)\n",
    "\n",
    "base_text = unescape(response.text)\n",
    "root = ET.fromstring(base_text[base_text.find(\"<?xml\", 1): base_text.find(\"</GetProjectSyncResult>\")])"
   ]
  },
  {
   "cell_type": "code",
   "execution_count": 12,
   "metadata": {},
   "outputs": [],
   "source": [
    "# 1.21 Save response.text to GCS\n",
    "blob = bucket_cs.blob(path_data_input+'bindexis_{}.txt'.format(time_now.strftime('%Y%m%d%H%M%S')))\n",
    "blob.upload_from_string(response.text)"
   ]
  },
  {
   "cell_type": "code",
   "execution_count": 10,
   "metadata": {},
   "outputs": [
    {
     "name": "stdout",
     "output_type": "stream",
     "text": [
      "1.3\n"
     ]
    }
   ],
   "source": [
    "#1.3 Extraction Description Dictionary\n",
    "print(\"1.3\")\n",
    "description_dict = {}\n",
    "\n",
    "for i in [\"PlanningStage\", \"SizeUnit\", \"RoofType\", \"ConstructionMaterial\", \"ProjCladdingType\", \n",
    "          \"DevelopmentType\", \"TargetGroupType\", \"Employee\", \"JobFunction\", \"Gender\", \"BuildingType\", \n",
    "          \"HeatingType\", \"ProjectFinalUse\"]:\n",
    "\n",
    "    aux_dict = {}\n",
    "    if i == \"ProjectFinalUse\": values = root.find(\"{0}\".format(i))\n",
    "    else:                      values = root.find(\"{0}Values\".format(i))\n",
    "\n",
    "    if i == \"BuildingType\":\n",
    "        for j in values[1:]: aux_dict[j.find(\"ProId\").text] = [j.find(\"ProDesc\").text, j.find(\"ProParentId\").text]     \n",
    "    else: \n",
    "        for j in values: aux_dict[j.find(\"UtilId\").text] = j.find(\"UtilDesc\").text\n",
    "\n",
    "    description_dict[i] = aux_dict"
   ]
  },
  {
   "cell_type": "code",
   "execution_count": 13,
   "metadata": {},
   "outputs": [
    {
     "name": "stdout",
     "output_type": "stream",
     "text": [
      "1.31\n"
     ]
    }
   ],
   "source": [
    "#1.31 Speicherung Description Dictionary\n",
    "print(\"1.31\")\n",
    "filename = \"{}/description_dict.pkl\".format(tempfile.gettempdir())\n",
    "with open(filename, 'wb') as fp: pickle.dump(time_now, fp)\n",
    "blob = bucket_cs.blob(path_data_va+'description_dict.pkl')\n",
    "blob.upload_from_filename(filename)"
   ]
  },
  {
   "cell_type": "code",
   "execution_count": 12,
   "metadata": {},
   "outputs": [],
   "source": [
    "#1.31 Speicherung Description Dictionary\n",
    "blob = bucket_cs.blob(path_data_va+'description_dict.txt')\n",
    "blob.upload_from_string(str(description_dict))"
   ]
  },
  {
   "cell_type": "code",
   "execution_count": 17,
   "metadata": {},
   "outputs": [
    {
     "name": "stdout",
     "output_type": "stream",
     "text": [
      "1.4\n"
     ]
    }
   ],
   "source": [
    "#1.4 Definition of Extraction Configuration Files\n",
    "print(\"1.4\")\n",
    "canton_dict = {'CH01': 'AG',     'CH02': 'AI',     'CH03': 'AR',     'CH04': 'BE',     'CH05': 'BL', \n",
    "               'CH06': 'BS',     'CH08': 'FR',     'CH09': 'GE',     'CH10': 'GL',     'CH11': 'GR', \n",
    "               'CH12': 'JU',     'CH13': 'LU',     'CH14': 'NE',     'CH15': 'NW',     'CH16': 'OW',     \n",
    "               'CH17': 'SG',     'CH18': 'SH',     'CH19': 'SO',     'CH20': 'SZ',     'CH21': 'TG',             \n",
    "               'CH22': 'TI',     'CH23': 'UR',     'CH24': 'VD',     'CH25': 'VS',     'CH26': 'ZG',     \n",
    "               'CH27': 'ZH'}\n",
    "\n",
    "bool_dict = {'False': False,     'True': True}  \n",
    "\n",
    "project_list =   [[\"PROJECT_ID\",             \"j.find('ProjId').text\",                          \"STRING\"  ],\n",
    "                  [\"PROJECT_TITLE\",          \"j.find('ProjTitle').text\",                       \"STRING\"  ],   \n",
    "                  [\"PROJECT_PARCELID\",       \"j.find('ProjOfficialId').text\",                  \"STRING\"  ],  \n",
    "                  [\"PROJECT_LANGUAGE\",       \"j.find('ProjLanguageId').text[:2].upper()\",      \"STRING\"   ],\n",
    "                  [\"PROJECT_DESCRIPTION\",    \"j.find('ProjDesc').text\",                        \"STRING\"],\n",
    "                  [\"PROJECT_PLANNINGSTAGE\",  \"j.find('PlanningStage').text\",                   \"STRING\"  ],\n",
    "                  [\"PROJECT_INRESEARCH\",     \"bool_dict[j.find('InResearch').text]\",         \"BOOLEAN\"       ],                       \n",
    "                  [\"PROJECT_FINALUSE\",       \"j.find('ProjFinalUseId').text\",                  \"STRING\"  ],\n",
    "                  [\"PROJECT_VALUE\",          \"j.find('ProjValue').text\",                       \"FLOAT\"       ],\n",
    "                  [\"PROJECT_SIZE\",           \"j.find('ProjSize').text\",                        \"FLOAT\"       ],\n",
    "                  [\"PROJECT_VOLUME\",         \"j.find('ProjVolume').text\",                      \"FLOAT\"       ],\n",
    "                  [\"PROJECT_APARTMENTS\",     \"j.find('ProjApartments').text\",                  \"FLOAT\"       ],\n",
    "                  [\"PROJECT_FLOORS\",         \"j.find('ProjFloors').text\",                      \"FLOAT\"       ],\n",
    "                  [\"PROJECT_BUILDINGS\",      \"j.find('ProjBuildings').text\",                   \"FLOAT\"       ],                 \n",
    "                  [\"PROJECT_NOTE\",           \"j.find('ProjNote').text\",                        \"STRING\" ],\n",
    "                  [\"DATE_INSERTION\",         \"j.find('ProjInsertDate').text[:19]\",             \"timestamp\"    ],\n",
    "                  [\"DATE_UPDATE\",            \"j.find('ProjLatestUpdate').text[:19]\",           \"timestamp\"    ],\n",
    "                  [\"DATE_PUBLICATION\",       \"j.find('ProjConfirmDate').text[:19]\",            \"timestamp\"    ],\n",
    "                  [\"DATE_STARTCONSTRUCTION\", \"j.find('ProjConstStartDate').text[:19]\",         \"timestamp\"    ],\n",
    "                  [\"DATE_PLANNINGAPPROVAL\",  \"j.find('ProjPlanningApprovalDate').text[:19]\",   \"timestamp\"    ],\n",
    "                  [\"DETAIL_ROOFTYPE\",        \"j.find('RoofType').text\",                        \"STRING\"  ],\n",
    "                  [\"DETAIL_MATERIALS\",       \"j.find('ConstructionMaterials').text\",           \"STRING\"  ],\n",
    "                  [\"DETAIL_CLADDING\",        \"j.find('CladdingType').text\",                    \"STRING\"  ],\n",
    "                  [\"DETAIL_HEATING\",         \"j.find('HeatingType').text\",                     \"STRING\"  ], \n",
    "                  [\"DETAIL_SOLAR\",           \"bool_dict[j.find('ProjSolar').text]\",            \"BOOLEAN\"       ], \n",
    "                  [\"ADDRESS_STREET1\",        \"j.find('ProjAddress1').text\",                    \"STRING\"  ],                                     \n",
    "                  [\"ADDRESS_STREET2\",        \"j.find('ProjAddress2').text\",                    \"STRING\"  ], \n",
    "                  [\"ADDRESS_STREET3\",        \"j.find('ProjAddress3').text\",                    \"STRING\"  ],                   \n",
    "                  [\"ADDRESS_CITY\",           \"j.find('ProjCity').text\",                        \"STRING\"  ],\n",
    "                  [\"ADDRESS_POSTALCODE\",     \"j.find('ProjZip').text\",                         \"FLOAT\"       ],\n",
    "                  [\"ADDRESS_COUNTY\",         \"j.find('ProjCounty').text\",                      \"STRING\"  ],\n",
    "                  [\"ADDRESS_CANTON\",         \"canton_dict[j.find('ProjRegId').text]\",          \"STRING\"   ], \n",
    "                  [\"ADDRESS_COUNTRY\",        \"j.find('ProjCountryId').text\",                   \"STRING\"   ]]\n",
    "\n",
    "building_list  = [[\"PROJECT_ID\",             \"l.find('PProProjId').text\",                      \"STRING\"  ],\n",
    "                  [\"BUILDING_TYPE\",          \"l.find('BuildingType').text\",                    \"STRING\"  ],    \n",
    "                  [\"BUILDING_DEVELOPMENT\",   \"l.find('DevelopmentType').text\",                 \"STRING\"  ]]\n",
    "\n",
    "contact_list   = [[\"PROJECT_ID\",             \"n.find('TarProjId').text\",                       \"STRING\"  ],  \n",
    "                  [\"ORG_TYPE\",               \"n.find('TargetGroupType').text\",                 \"STRING\"  ],   \n",
    "                  [\"ORG_ID\",                 \"n.find('OrgId').text\",                           \"STRING\"  ], \n",
    "                  [\"ORG_NAME\",               \"n.find('OrgName').text\",                         \"STRING\" ], \n",
    "                  [\"ORG_STREET1\",            \"n.find('OrgAddress1').text\",                     \"STRING\"  ],                                     \n",
    "                  [\"ORG_STREET2\",            \"n.find('OrgAddress2').text\",                     \"STRING\"  ], \n",
    "                  [\"ORG_STREET3\",            \"n.find('OrgAddress3').text\",                     \"STRING\"  ],                   \n",
    "                  [\"ORG_CITY\",               \"n.find('OrgCity').text\",                         \"STRING\"  ],\n",
    "                  [\"ORG_COUNTRY\",            \"n.find('OrgCountryId').text\",                    \"STRING\"   ],\n",
    "                  [\"ORG_POSTALCODE\",         \"n.find('OrgZip').text\",                          \"STRING\"   ],\n",
    "                  [\"ORG_PB_ADDRESS\",         \"n.find('OrgPostBoxAddress').text\",               \"STRING\"  ],                                     \n",
    "                  [\"ORG_PB_CITY\",            \"n.find('OrgPostBoxCity').text\",                  \"STRING\"  ], \n",
    "                  [\"ORG_PB_POSTALCODE\",      \"n.find('OrgPostBoxZip').text\",                   \"STRING\"   ],                   \n",
    "                  [\"ORG_PHONE\",              \"n.find('OrgPhone').text\",                        \"STRING\"  ],\n",
    "                  [\"ORG_EMAIL\",              \"n.find('OrgEmail').text\",                        \"STRING\"  ],\n",
    "                  [\"ORG_WEB\",                \"n.find('OrgWeb').text\",                          \"STRING\"  ],\n",
    "                  [\"ORG_EMPLOYEES\",          \"n.find('Employees').text\",                       \"STRING\"  ],\n",
    "                  [\"PERSON_ID\",              \"n.find('PerId').text\",                           \"STRING\"  ], \n",
    "                  [\"PERSON_GENDER\",          \"n.find('PerGender').text\",                       \"STRING\"   ],                                     \n",
    "                  [\"PERSON_FIRSTNAME\",       \"n.find('PerFname').text\",                        \"STRING\"  ], \n",
    "                  [\"PERSON_LASTNAME\",        \"n.find('PerLname').text\",                        \"STRING\"  ],                   \n",
    "                  [\"PERSON_PHONE\",           \"n.find('PerPhone').text\",                        \"STRING\"  ],\n",
    "                  [\"PERSON_MOBILE\",          \"n.find('PerMobile').text\",                       \"STRING\"  ],\n",
    "                  [\"PERSON_EMAIL\",           \"n.find('PerEmail').text\",                        \"STRING\"  ]]"
   ]
  },
  {
   "cell_type": "code",
   "execution_count": 18,
   "metadata": {},
   "outputs": [],
   "source": [
    "\n",
    "canton_dict = {'CH01': 'AG',     'CH02': 'AI',     'CH03': 'AR',     'CH04': 'BE',     'CH05': 'BL', \n",
    "               'CH06': 'BS',     'CH08': 'FR',     'CH09': 'GE',     'CH10': 'GL',     'CH11': 'GR', \n",
    "               'CH12': 'JU',     'CH13': 'LU',     'CH14': 'NE',     'CH15': 'NW',     'CH16': 'OW',     \n",
    "               'CH17': 'SG',     'CH18': 'SH',     'CH19': 'SO',     'CH20': 'SZ',     'CH21': 'TG',             \n",
    "               'CH22': 'TI',     'CH23': 'UR',     'CH24': 'VD',     'CH25': 'VS',     'CH26': 'ZG',     \n",
    "               'CH27': 'ZH'}\n",
    "\n",
    "bool_dict = {'False': False,     'True': True}  \n",
    "    \n",
    "project_list =   [[\"PROJECT_ID\",             \"j.find('ProjId').text\",                          \"STRING\"  ],\n",
    "                  [\"PROJECT_TITLE\",          \"j.find('ProjTitle').text\",                       \"STRING\"  ],   \n",
    "                  [\"PROJECT_PARCELID\",       \"j.find('ProjOfficialId').text\",                  \"STRING\"  ],  \n",
    "                  [\"PROJECT_LANGUAGE\",       \"j.find('ProjLanguageId').text\",      \"STRING\"   ],\n",
    "                  [\"PROJECT_DESCRIPTION\",    \"j.find('ProjDesc').text\",                        \"STRING\"],\n",
    "                  [\"PROJECT_PLANNINGSTAGE\",  \"j.find('PlanningStage').text\",                   \"STRING\"  ],\n",
    "                  [\"PROJECT_INRESEARCH\",     \"bool_dict[j.find('InResearch').text]\",         \"BOOLEAN\"       ],                   \n",
    "                  [\"PROJECT_FINALUSE\",       \"j.find('ProjFinalUseId').text\",                  \"STRING\"  ],\n",
    "                  [\"PROJECT_VALUE\",          \"j.find('ProjValue').text\",                       \"FLOAT\"       ],\n",
    "                  [\"PROJECT_SIZE\",           \"j.find('ProjSize').text\",                        \"FLOAT\"       ],\n",
    "                  [\"PROJECT_VOLUME\",         \"j.find('ProjVolume').text\",                      \"FLOAT\"       ],\n",
    "                  [\"PROJECT_APARTMENTS\",     \"j.find('ProjApartments').text\",                  \"FLOAT\"       ],\n",
    "                  [\"PROJECT_FLOORS\",         \"j.find('ProjFloors').text\",                      \"FLOAT\"       ],\n",
    "                  [\"PROJECT_BUILDINGS\",      \"j.find('ProjBuildings').text\",                   \"FLOAT\"       ],                 \n",
    "                  [\"PROJECT_NOTE\",           \"j.find('ProjNote').text\",                        \"STRING\" ],\n",
    "                  [\"DATE_INSERTION\",         \"j.find('ProjInsertDate').text\",             \"TIMESTAMP\"    ],\n",
    "                  [\"DATE_UPDATE\",            \"j.find('ProjLatestUpdate').text\",           \"TIMESTAMP\"    ],\n",
    "                  [\"DATE_PUBLICATION\",       \"j.find('ProjConfirmDate').text\",            \"TIMESTAMP\"    ],\n",
    "                  [\"DATE_STARTCONSTRUCTION\", \"j.find('ProjConstStartDate').text\",         \"TIMESTAMP\"    ],\n",
    "                  [\"DATE_PLANNINGAPPROVAL\",  \"j.find('ProjPlanningApprovalDate').text\",   \"TIMESTAMP\"    ],\n",
    "                  [\"DETAIL_ROOFTYPE\",        \"j.find('RoofType').text\",                        \"STRING\"  ],\n",
    "                  [\"DETAIL_MATERIALS\",       \"j.find('ConstructionMaterials').text\",           \"STRING\"  ],\n",
    "                  [\"DETAIL_CLADDING\",        \"j.find('CladdingType').text\",                    \"STRING\"  ],\n",
    "                  [\"DETAIL_HEATING\",         \"j.find('HeatingType').text\",                     \"STRING\"  ], \n",
    "                  [\"DETAIL_SOLAR\",           \"bool_dict[j.find('ProjSolar').text]\",            \"BOOLEAN\"       ], \n",
    "                  [\"ADDRESS_STREET1\",        \"j.find('ProjAddress1').text\",                    \"STRING\"  ],                                     \n",
    "                  [\"ADDRESS_STREET2\",        \"j.find('ProjAddress2').text\",                    \"STRING\"  ], \n",
    "                  [\"ADDRESS_STREET3\",        \"j.find('ProjAddress3').text\",                    \"STRING\"  ],                   \n",
    "                  [\"ADDRESS_CITY\",           \"j.find('ProjCity').text\",                        \"STRING\"  ],\n",
    "                  [\"ADDRESS_POSTALCODE\",     \"j.find('ProjZip').text\",                         \"INT\"       ],\n",
    "                  [\"ADDRESS_COUNTY\",         \"j.find('ProjCounty').text\",                      \"STRING\"  ],\n",
    "                  [\"ADDRESS_CANTON\",         \"j.find('ProjRegId').text\",          \"STRING\"   ], \n",
    "                  [\"ADDRESS_COUNTRY\",        \"j.find('ProjCountryId').text\",                   \"STRING\"   ]]\n",
    "\n",
    "building_list  = [[\"PROJECT_ID\",             \"l.find('PProProjId').text\",                      \"STRING\"  ],\n",
    "                  [\"BUILDING_TYPE\",          \"l.find('BuildingType').text\",                    \"STRING\"  ],    \n",
    "                  [\"BUILDING_DEVELOPMENT\",   \"l.find('DevelopmentType').text\",                 \"STRING\"  ]]\n",
    "\n",
    "contact_list   = [[\"PROJECT_ID\",             \"n.find('TarProjId').text\",                       \"STRING\"  ],  \n",
    "                  [\"ORG_TYPE\",               \"n.find('TargetGroupType').text\",                 \"STRING\"  ],   \n",
    "                  [\"ORG_ID\",                 \"n.find('OrgId').text\",                           \"STRING\"  ], \n",
    "                  [\"ORG_NAME\",               \"n.find('OrgName').text\",                         \"STRING\" ], \n",
    "                  [\"ORG_STREET1\",            \"n.find('OrgAddress1').text\",                     \"STRING\"  ],                                     \n",
    "                  [\"ORG_STREET2\",            \"n.find('OrgAddress2').text\",                     \"STRING\"  ], \n",
    "                  [\"ORG_STREET3\",            \"n.find('OrgAddress3').text\",                     \"STRING\"  ],                   \n",
    "                  [\"ORG_CITY\",               \"n.find('OrgCity').text\",                         \"STRING\"  ],\n",
    "                  [\"ORG_COUNTRY\",            \"n.find('OrgCountryId').text\",                    \"STRING\"   ],\n",
    "                  [\"ORG_POSTALCODE\",         \"n.find('OrgZip').text\",                          \"STRING\"   ],\n",
    "                  [\"ORG_PB_ADDRESS\",         \"n.find('OrgPostBoxAddress').text\",               \"STRING\"  ],                                     \n",
    "                  [\"ORG_PB_CITY\",            \"n.find('OrgPostBoxCity').text\",                  \"STRING\"  ], \n",
    "                  [\"ORG_PB_POSTALCODE\",      \"n.find('OrgPostBoxZip').text\",                   \"STRING\"   ],                   \n",
    "                  [\"ORG_PHONE\",              \"n.find('OrgPhone').text\",                        \"STRING\"  ],\n",
    "                  [\"ORG_EMAIL\",              \"n.find('OrgEmail').text\",                        \"STRING\"  ],\n",
    "                  [\"ORG_WEB\",                \"n.find('OrgWeb').text\",                          \"STRING\"  ],\n",
    "                  [\"ORG_EMPLOYEES\",          \"n.find('Employees').text\",                       \"STRING\"  ],\n",
    "                  [\"PERSON_ID\",              \"n.find('PerId').text\",                           \"STRING\"  ], \n",
    "                  [\"PERSON_GENDER\",          \"n.find('PerGender').text\",                       \"STRING\"   ],                                     \n",
    "                  [\"PERSON_FIRSTNAME\",       \"n.find('PerFname').text\",                        \"STRING\"  ], \n",
    "                  [\"PERSON_LASTNAME\",        \"n.find('PerLname').text\",                        \"STRING\"  ],                   \n",
    "                  [\"PERSON_PHONE\",           \"n.find('PerPhone').text\",                        \"STRING\"  ],\n",
    "                  [\"PERSON_MOBILE\",          \"n.find('PerMobile').text\",                       \"STRING\"  ],\n",
    "                  [\"PERSON_EMAIL\",           \"n.find('PerEmail').text\",                        \"STRING\"  ]]"
   ]
  },
  {
   "cell_type": "code",
   "execution_count": 25,
   "metadata": {},
   "outputs": [
    {
     "name": "stdout",
     "output_type": "stream",
     "text": [
      "1.5\n"
     ]
    }
   ],
   "source": [
    "#1.5 Feature Exctraction\n",
    "print(\"1.5\")\n",
    "\n",
    "def df_generator(attr_list):\n",
    "    df = {i[0] for i in attr_list}\n",
    "    return df\n",
    "\n",
    "df_projects = []\n",
    "df_buildings = []\n",
    "df_contacts = []\n",
    "\n",
    "for i, j in enumerate(root.find(\"Projects\")):\n",
    "    #print(\"loop1\",i)\n",
    "    #Feature Extraction df_projects\n",
    "    df_project = {} \n",
    "    for k in project_list:\n",
    "        #print(\"loop2\",i)\n",
    "        #try: df_project[k[0]] = eval(k[1])\n",
    "        try: \n",
    "            if k[2]==\"FLOAT\" and eval(k[1]) is not None: df_project[k[0]] = float(eval(k[1]))\n",
    "            elif k[2]==\"INT\" and eval(k[1]) is not None: df_project[k[0]] = int(eval(k[1]))\n",
    "            else: df_project[k[0]] = eval(k[1])\n",
    "        except AttributeError: df_project[k[0]] = None\n",
    "    df_projects.append(df_project)\n",
    "\n",
    "    #Feature Extraction df_buildings    \n",
    "    df_building = {} \n",
    "    for l in j.findall(\"BuildingType\"):\n",
    "        for k in building_list:\n",
    "            try: \n",
    "                if k[2]==\"FLOAT\" and eval(k[1]) is not None: df_building[k[0]] = float(eval(k[1]))\n",
    "                elif k[2]==\"INT\" and eval(k[1]) is not None: df_building[k[0]] = int(eval(k[1]))\n",
    "                else: df_building[k[0]] = eval(k[1])\n",
    "            except AttributeError: df_building[k[0]] = None\n",
    "    df_buildings.append(df_building)\n",
    "\n",
    "    #Feature Extraction df_target   \n",
    "    df_contact = {}  \n",
    "    for n in j.findall(\"TargetGroup\"):\n",
    "        for k in contact_list:\n",
    "            try: \n",
    "                if k[2]==\"FLOAT\" and eval(k[1]) is not None: df_contact[k[0]] = float(eval(k[1]))\n",
    "                elif k[2]==\"INT\" and eval(k[1]) is not None: df_contact[k[0]] = int(eval(k[1]))\n",
    "                else: df_contact[k[0]] = eval(k[1])\n",
    "            except AttributeError: df_contact[k[0]] = None \n",
    "    df_contacts.append(df_contact)\n",
    "\n"
   ]
  },
  {
   "cell_type": "code",
   "execution_count": 27,
   "metadata": {},
   "outputs": [],
   "source": [
    "import uuid\n",
    "import avro.schema\n",
    "import json\n",
    "from avro.datafile import DataFileReader, DataFileWriter\n",
    "from avro.io import DatumReader, DatumWriter\n",
    "\n",
    "def save_avro_output(file_name: str, records: list, list_name):\n",
    "    \"\"\"\n",
    "    Given a list of records, saves to file in Avro format.\n",
    "    :param file_name: name of file to write Avro data\n",
    "    :param records: list of dicts, containing the actual records to be saved\n",
    "    :param list_name: list of list, containing the column names and types\n",
    "    :return: \n",
    "    \"\"\"\n",
    "    avro_schema = avro.schema.Parse(json.dumps({\n",
    "        \"namespace\": file_name,\n",
    "        \"type\": \"record\",\n",
    "        \"name\": file_name,\n",
    "        \"fields\": [{\"name\": i[0], \"type\": [i[2].lower(),\"null\"]} for i in list_name if i[2].lower()!=\"timestamp\"] +\n",
    "                  [{\"name\": i[0], \"type\": [{\"type\": \"string\", \"logicalType\": \"timestamp-millis\"}, \"null\"]} for i in list_name if i[2].lower()==\"timestamp\"]\n",
    "    }))\n",
    "\n",
    "    #os.remove(file_name)\n",
    "    writer = DataFileWriter(open(file_name, \"wb\"), DatumWriter(), avro_schema)\n",
    "    \n",
    "    for record in records:\n",
    "        writer.append(record)\n",
    "\n",
    "    writer.close()\n",
    "\n",
    "save_avro_output('df_projects.avro', df_projects, project_list)\n",
    "save_avro_output('df_buildings.avro', df_buildings, building_list)\n",
    "save_avro_output('df_contacts.avro', df_contacts, contact_list)\n"
   ]
  },
  {
   "cell_type": "code",
   "execution_count": 28,
   "metadata": {},
   "outputs": [],
   "source": [
    "import uuid\n",
    "import avro.schema\n",
    "import json\n",
    "from avro.datafile import DataFileReader, DataFileWriter\n",
    "from avro.io import DatumReader, DatumWriter\n",
    "\n",
    "def read_avro_input(file_name: str, list_name):\n",
    "    \"\"\"\n",
    "    Given a list of records, saves to file in Avro format.\n",
    "    :param file_name: name of file to write Avro data\n",
    "    :param records: list of dicts, containing the actual records to be saved\n",
    "    :param list_name: list of list, containing the column names and types\n",
    "    :return: \n",
    "    \"\"\"\n",
    "    avro_schema = avro.schema.Parse(json.dumps({\n",
    "        \"namespace\": file_name,\n",
    "        \"type\": \"record\",\n",
    "        \"name\": file_name,\n",
    "        \"fields\": [{\"name\": i[0], \"type\": [i[2].lower(),\"null\"]} for i in list_name if i[2].lower()!=\"timestamp\"] +\n",
    "                  [{\"name\": i[0], \"type\": [{\"type\": \"string\", \"logicalType\": \"timestamp-millis\"}, \"null\"]} for i in list_name if i[2].lower()==\"timestamp\"]\n",
    "    }))\n",
    "\n",
    "    # 1. open avro and extract passport + data\n",
    "    reader = DataFileReader(open(file_name, \"rb\"), DatumReader(avro_schema, avro_schema))\n",
    "    avro_list = []\n",
    "    for user in reader:\n",
    "        avro_list.append(user)\n",
    "    reader.close()\n",
    "    \n",
    "    return avro_list\n",
    "\n",
    "\n",
    "df_projects_avro = read_avro_input('df_projects.avro', project_list)\n",
    "df_buildings_avro = read_avro_input('df_buildings.avro', building_list)\n",
    "df_contacts_avro = read_avro_input('df_contacts.avro', contact_list)\n"
   ]
  },
  {
   "cell_type": "code",
   "execution_count": 26,
   "metadata": {},
   "outputs": [
    {
     "data": {
      "text/plain": [
       "[{'ADDRESS_CANTON': 'CH04',\n",
       "  'ADDRESS_CITY': 'Zollikofen',\n",
       "  'ADDRESS_COUNTRY': 'CH',\n",
       "  'ADDRESS_COUNTY': 'Amtsbezirk Bern',\n",
       "  'ADDRESS_POSTALCODE': 3052,\n",
       "  'ADDRESS_STREET1': 'Starenweg 10',\n",
       "  'ADDRESS_STREET2': None,\n",
       "  'ADDRESS_STREET3': None,\n",
       "  'DATE_INSERTION': '2019-05-15T12:18:54.51+01:00',\n",
       "  'DATE_PLANNINGAPPROVAL': None,\n",
       "  'DATE_PUBLICATION': '2019-05-15T12:21:55.033+01:00',\n",
       "  'DATE_STARTCONSTRUCTION': None,\n",
       "  'DATE_UPDATE': '2019-05-15T12:21:55.04+01:00',\n",
       "  'DETAIL_CLADDING': 'unbestimmt',\n",
       "  'DETAIL_HEATING': None,\n",
       "  'DETAIL_MATERIALS': None,\n",
       "  'DETAIL_ROOFTYPE': None,\n",
       "  'DETAIL_SOLAR': False,\n",
       "  'PROJECT_APARTMENTS': None,\n",
       "  'PROJECT_BUILDINGS': None,\n",
       "  'PROJECT_DESCRIPTION': 'Abbruch des bestehenden Satteldaches und Aufstockung auf das bestehende Einfamilienhaus sowie neue Aussenwärmedämmung',\n",
       "  'PROJECT_FINALUSE': None,\n",
       "  'PROJECT_FLOORS': None,\n",
       "  'PROJECT_ID': '114BX576380',\n",
       "  'PROJECT_INRESEARCH': False,\n",
       "  'PROJECT_LANGUAGE': 'de-CH',\n",
       "  'PROJECT_NOTE': None,\n",
       "  'PROJECT_PARCELID': '932',\n",
       "  'PROJECT_PLANNINGSTAGE': 'Baugesuch eingereicht',\n",
       "  'PROJECT_SIZE': None,\n",
       "  'PROJECT_TITLE': 'Aufstockung Einfamilienhaus, Aussenwärmedämmung',\n",
       "  'PROJECT_VALUE': -1.0,\n",
       "  'PROJECT_VOLUME': None},\n",
       " {'ADDRESS_CANTON': 'CH04',\n",
       "  'ADDRESS_CITY': 'Moutier',\n",
       "  'ADDRESS_COUNTRY': 'CH',\n",
       "  'ADDRESS_COUNTY': 'District de Moutier',\n",
       "  'ADDRESS_POSTALCODE': 2740,\n",
       "  'ADDRESS_STREET1': 'chemin de la Cité 8, 8A',\n",
       "  'ADDRESS_STREET2': None,\n",
       "  'ADDRESS_STREET3': None,\n",
       "  'DATE_INSERTION': '2019-05-15T12:22:51.323+01:00',\n",
       "  'DATE_PLANNINGAPPROVAL': None,\n",
       "  'DATE_PUBLICATION': '2019-05-15T12:23:50.23+01:00',\n",
       "  'DATE_STARTCONSTRUCTION': None,\n",
       "  'DATE_UPDATE': '2019-05-15T12:23:50.237+01:00',\n",
       "  'DETAIL_CLADDING': None,\n",
       "  'DETAIL_HEATING': None,\n",
       "  'DETAIL_MATERIALS': None,\n",
       "  'DETAIL_ROOFTYPE': None,\n",
       "  'DETAIL_SOLAR': False,\n",
       "  'PROJECT_APARTMENTS': None,\n",
       "  'PROJECT_BUILDINGS': None,\n",
       "  'PROJECT_DESCRIPTION': 'Démolition des bâtiments et remise en état du terrain',\n",
       "  'PROJECT_FINALUSE': None,\n",
       "  'PROJECT_FLOORS': None,\n",
       "  'PROJECT_ID': '114BX576382',\n",
       "  'PROJECT_INRESEARCH': False,\n",
       "  'PROJECT_LANGUAGE': 'fr-CH',\n",
       "  'PROJECT_NOTE': None,\n",
       "  'PROJECT_PARCELID': '1244',\n",
       "  'PROJECT_PLANNINGSTAGE': 'Baugesuch eingereicht',\n",
       "  'PROJECT_SIZE': None,\n",
       "  'PROJECT_TITLE': 'Démolition des bâtiments',\n",
       "  'PROJECT_VALUE': None,\n",
       "  'PROJECT_VOLUME': None}]"
      ]
     },
     "execution_count": 26,
     "metadata": {},
     "output_type": "execute_result"
    }
   ],
   "source": [
    "df_projects[0:2]"
   ]
  },
  {
   "cell_type": "code",
   "execution_count": 29,
   "metadata": {},
   "outputs": [
    {
     "data": {
      "text/plain": [
       "[{'ADDRESS_CANTON': 'CH04',\n",
       "  'ADDRESS_CITY': 'Zollikofen',\n",
       "  'ADDRESS_COUNTRY': 'CH',\n",
       "  'ADDRESS_COUNTY': 'Amtsbezirk Bern',\n",
       "  'ADDRESS_POSTALCODE': 3052,\n",
       "  'ADDRESS_STREET1': 'Starenweg 10',\n",
       "  'ADDRESS_STREET2': None,\n",
       "  'ADDRESS_STREET3': None,\n",
       "  'DATE_INSERTION': '2019-05-15T12:18:54.51+01:00',\n",
       "  'DATE_PLANNINGAPPROVAL': None,\n",
       "  'DATE_PUBLICATION': '2019-05-15T12:21:55.033+01:00',\n",
       "  'DATE_STARTCONSTRUCTION': None,\n",
       "  'DATE_UPDATE': '2019-05-15T12:21:55.04+01:00',\n",
       "  'DETAIL_CLADDING': 'unbestimmt',\n",
       "  'DETAIL_HEATING': None,\n",
       "  'DETAIL_MATERIALS': None,\n",
       "  'DETAIL_ROOFTYPE': None,\n",
       "  'DETAIL_SOLAR': False,\n",
       "  'PROJECT_APARTMENTS': None,\n",
       "  'PROJECT_BUILDINGS': None,\n",
       "  'PROJECT_DESCRIPTION': 'Abbruch des bestehenden Satteldaches und Aufstockung auf das bestehende Einfamilienhaus sowie neue Aussenwärmedämmung',\n",
       "  'PROJECT_FINALUSE': None,\n",
       "  'PROJECT_FLOORS': None,\n",
       "  'PROJECT_ID': '114BX576380',\n",
       "  'PROJECT_INRESEARCH': False,\n",
       "  'PROJECT_LANGUAGE': 'de-CH',\n",
       "  'PROJECT_NOTE': None,\n",
       "  'PROJECT_PARCELID': '932',\n",
       "  'PROJECT_PLANNINGSTAGE': 'Baugesuch eingereicht',\n",
       "  'PROJECT_SIZE': None,\n",
       "  'PROJECT_TITLE': 'Aufstockung Einfamilienhaus, Aussenwärmedämmung',\n",
       "  'PROJECT_VALUE': -1.0,\n",
       "  'PROJECT_VOLUME': None},\n",
       " {'ADDRESS_CANTON': 'CH04',\n",
       "  'ADDRESS_CITY': 'Moutier',\n",
       "  'ADDRESS_COUNTRY': 'CH',\n",
       "  'ADDRESS_COUNTY': 'District de Moutier',\n",
       "  'ADDRESS_POSTALCODE': 2740,\n",
       "  'ADDRESS_STREET1': 'chemin de la Cité 8, 8A',\n",
       "  'ADDRESS_STREET2': None,\n",
       "  'ADDRESS_STREET3': None,\n",
       "  'DATE_INSERTION': '2019-05-15T12:22:51.323+01:00',\n",
       "  'DATE_PLANNINGAPPROVAL': None,\n",
       "  'DATE_PUBLICATION': '2019-05-15T12:23:50.23+01:00',\n",
       "  'DATE_STARTCONSTRUCTION': None,\n",
       "  'DATE_UPDATE': '2019-05-15T12:23:50.237+01:00',\n",
       "  'DETAIL_CLADDING': None,\n",
       "  'DETAIL_HEATING': None,\n",
       "  'DETAIL_MATERIALS': None,\n",
       "  'DETAIL_ROOFTYPE': None,\n",
       "  'DETAIL_SOLAR': False,\n",
       "  'PROJECT_APARTMENTS': None,\n",
       "  'PROJECT_BUILDINGS': None,\n",
       "  'PROJECT_DESCRIPTION': 'Démolition des bâtiments et remise en état du terrain',\n",
       "  'PROJECT_FINALUSE': None,\n",
       "  'PROJECT_FLOORS': None,\n",
       "  'PROJECT_ID': '114BX576382',\n",
       "  'PROJECT_INRESEARCH': False,\n",
       "  'PROJECT_LANGUAGE': 'fr-CH',\n",
       "  'PROJECT_NOTE': None,\n",
       "  'PROJECT_PARCELID': '1244',\n",
       "  'PROJECT_PLANNINGSTAGE': 'Baugesuch eingereicht',\n",
       "  'PROJECT_SIZE': None,\n",
       "  'PROJECT_TITLE': 'Démolition des bâtiments',\n",
       "  'PROJECT_VALUE': None,\n",
       "  'PROJECT_VOLUME': None}]"
      ]
     },
     "execution_count": 29,
     "metadata": {},
     "output_type": "execute_result"
    }
   ],
   "source": [
    "df_projects_avro[0:2]"
   ]
  },
  {
   "cell_type": "code",
   "execution_count": 202,
   "metadata": {},
   "outputs": [
    {
     "data": {
      "text/plain": [
       "[{'BUILDING_DEVELOPMENT': 'Neubau',\n",
       "  'BUILDING_TYPE': 'Verkehrsanlagen-Garagen und Unterstände',\n",
       "  'PROJECT_ID': '114BX573054'},\n",
       " {'BUILDING_DEVELOPMENT': 'Abbruch',\n",
       "  'BUILDING_TYPE': 'Wohnen (bis 2 Wohneinheiten)-Einfamilienhäuser',\n",
       "  'PROJECT_ID': '139BX9194'}]"
      ]
     },
     "execution_count": 202,
     "metadata": {},
     "output_type": "execute_result"
    }
   ],
   "source": [
    "df_buildings_avro[0:2]"
   ]
  },
  {
   "cell_type": "code",
   "execution_count": 203,
   "metadata": {},
   "outputs": [
    {
     "data": {
      "text/plain": [
       "[{'ORG_CITY': 'Frick',\n",
       "  'ORG_COUNTRY': 'CH',\n",
       "  'ORG_EMAIL': None,\n",
       "  'ORG_EMPLOYEES': '1 - 4',\n",
       "  'ORG_ID': '107BX58636',\n",
       "  'ORG_NAME': 'Roland und Anita Screm',\n",
       "  'ORG_PB_ADDRESS': None,\n",
       "  'ORG_PB_CITY': None,\n",
       "  'ORG_PB_POSTALCODE': None,\n",
       "  'ORG_PHONE': '062 871 07 56',\n",
       "  'ORG_POSTALCODE': '5070',\n",
       "  'ORG_STREET1': 'Kaistenbergstrasse 31',\n",
       "  'ORG_STREET2': None,\n",
       "  'ORG_STREET3': None,\n",
       "  'ORG_TYPE': 'Bauherr',\n",
       "  'ORG_WEB': None,\n",
       "  'PERSON_EMAIL': None,\n",
       "  'PERSON_FIRSTNAME': 'Anita',\n",
       "  'PERSON_GENDER': 'Frau',\n",
       "  'PERSON_ID': '107BX58638',\n",
       "  'PERSON_LASTNAME': 'Screm',\n",
       "  'PERSON_MOBILE': None,\n",
       "  'PERSON_PHONE': None,\n",
       "  'PROJECT_ID': '114BX573054'},\n",
       " {'ORG_CITY': 'Aarau',\n",
       "  'ORG_COUNTRY': 'CH',\n",
       "  'ORG_EMAIL': None,\n",
       "  'ORG_EMPLOYEES': '1 - 4',\n",
       "  'ORG_ID': '107BX58836',\n",
       "  'ORG_NAME': 'Daniel Kohli und Christine Hunziker',\n",
       "  'ORG_PB_ADDRESS': None,\n",
       "  'ORG_PB_CITY': None,\n",
       "  'ORG_PB_POSTALCODE': None,\n",
       "  'ORG_PHONE': '062 823 12 52',\n",
       "  'ORG_POSTALCODE': '5000',\n",
       "  'ORG_STREET1': 'Weltistrasse 32',\n",
       "  'ORG_STREET2': None,\n",
       "  'ORG_STREET3': None,\n",
       "  'ORG_TYPE': 'Bauherr',\n",
       "  'ORG_WEB': None,\n",
       "  'PERSON_EMAIL': None,\n",
       "  'PERSON_FIRSTNAME': 'Christine',\n",
       "  'PERSON_GENDER': 'Frau',\n",
       "  'PERSON_ID': '107BX58838',\n",
       "  'PERSON_LASTNAME': 'Hunziker',\n",
       "  'PERSON_MOBILE': None,\n",
       "  'PERSON_PHONE': None,\n",
       "  'PROJECT_ID': '139BX9194'}]"
      ]
     },
     "execution_count": 203,
     "metadata": {},
     "output_type": "execute_result"
    }
   ],
   "source": [
    "df_contacts_avro[0:2]"
   ]
  },
  {
   "cell_type": "code",
   "execution_count": null,
   "metadata": {},
   "outputs": [],
   "source": []
  },
  {
   "cell_type": "code",
   "execution_count": null,
   "metadata": {},
   "outputs": [],
   "source": []
  },
  {
   "cell_type": "code",
   "execution_count": null,
   "metadata": {},
   "outputs": [],
   "source": []
  }
 ],
 "metadata": {
  "kernelspec": {
   "display_name": "Python 3",
   "language": "python",
   "name": "python3"
  },
  "language_info": {
   "codemirror_mode": {
    "name": "ipython",
    "version": 3
   },
   "file_extension": ".py",
   "mimetype": "text/x-python",
   "name": "python",
   "nbconvert_exporter": "python",
   "pygments_lexer": "ipython3",
   "version": "3.5.3"
  }
 },
 "nbformat": 4,
 "nbformat_minor": 2
}
