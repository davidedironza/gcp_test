{
 "cells": [
  {
   "cell_type": "code",
   "execution_count": 10,
   "metadata": {},
   "outputs": [],
   "source": [
    "# change these to try this notebook out\n",
    "BUCKET = 'axa-ch-raw-dev-dla'\n",
    "PROJECT = 'axa-ch-datalake-analytics-dev'\n",
    "REGION = 'eu-west6'"
   ]
  },
  {
   "cell_type": "code",
   "execution_count": 11,
   "metadata": {},
   "outputs": [],
   "source": [
    "import os\n",
    "os.environ['BUCKET'] = BUCKET\n",
    "os.environ['PROJECT'] = PROJECT\n",
    "os.environ['REGION'] = REGION"
   ]
  },
  {
   "cell_type": "code",
   "execution_count": 12,
   "metadata": {},
   "outputs": [],
   "source": [
    "#0   Modul-Import & Parametrierung    \n",
    "#0.1 Modul-Import\n",
    "import os\n",
    "import pickle\n",
    "import requests\n",
    "import datetime\n",
    "import pytz\n",
    "import time\n",
    "import traceback\n",
    "import numpy as np\n",
    "import pandas as pd\n",
    "import xml.etree.ElementTree as ET\n",
    "import tempfile\n",
    "import logging\n",
    "from html import parser\n",
    "from random import randint\n",
    "from google.cloud import bigquery\n",
    "from google.cloud import storage"
   ]
  },
  {
   "cell_type": "code",
   "execution_count": 13,
   "metadata": {},
   "outputs": [],
   "source": [
    "#0.2 Set Stage\n",
    "stage = \"DEV\" if os.environ['PROJECT']=='axa-ch-datalake-analytics-dev' else \"PROD\" #sf.platform_is_server(\"stage\")"
   ]
  },
  {
   "cell_type": "code",
   "execution_count": 14,
   "metadata": {},
   "outputs": [],
   "source": [
    "#0.3 Pfadinformationen\n",
    "path_data_va = \"bindexis/data/various/\"\n",
    "path_data_input = \"bindexis/data/input/\""
   ]
  },
  {
   "cell_type": "code",
   "execution_count": 15,
   "metadata": {},
   "outputs": [],
   "source": [
    "#0.4 Set timezone\n",
    "import time\n",
    "os.environ['TZ'] = 'Europe/Zurich'\n",
    "time.tzset()"
   ]
  },
  {
   "cell_type": "code",
   "execution_count": 59,
   "metadata": {},
   "outputs": [
    {
     "name": "stdout",
     "output_type": "stream",
     "text": [
      "1.1\n",
      "2019-05-18 11:14:09.135937+02:00\n"
     ]
    }
   ],
   "source": [
    "# 1   Retrieve Bindexis Data\n",
    "#1.1 Access & Authentication Setup\n",
    "print(\"1.1\")\n",
    "username      = \"TIppisch\"\n",
    "time_now      = datetime.datetime.now(pytz.timezone('Europe/Zurich'))\n",
    "\n",
    "client_cs = storage.Client()\n",
    "bucket_cs = client_cs.get_bucket(BUCKET)\n",
    "try:\n",
    "    filename = \"{}/Parameter_TimeLastRun.pkl\".format(tempfile.gettempdir())\n",
    "    blob = bucket_cs.blob(path_data_va+'Parameter_TimeLastRun.pkl')\n",
    "    blob.download_to_filename(filename)\n",
    "    with open(filename, 'rb') as fp: time_last_run = pickle.load(fp)\n",
    "except:\n",
    "    time_last_run      = time_now + datetime.timedelta(days=-4)\n",
    "\n",
    "print(time_last_run)"
   ]
  },
  {
   "cell_type": "code",
   "execution_count": 60,
   "metadata": {},
   "outputs": [
    {
     "name": "stdout",
     "output_type": "stream",
     "text": [
      "1.2\n"
     ]
    },
    {
     "name": "stderr",
     "output_type": "stream",
     "text": [
      "/usr/local/lib/python2.7/dist-packages/urllib3/connectionpool.py:847: InsecureRequestWarning: Unverified HTTPS request is being made. Adding certificate verification is strongly advised. See: https://urllib3.readthedocs.io/en/latest/advanced-usage.html#ssl-warnings\n",
      "  InsecureRequestWarning)\n"
     ]
    }
   ],
   "source": [
    "import HTMLParser\n",
    "\n",
    "print(\"1.2\")\n",
    "#file = \"../certificates/sas_server_keystore.pem\"\n",
    "data = \"\"\"<soapenv:Envelope xmlns:soapenv=\"http://schemas.xmlsoap.org/soap/envelope/\" xmlns:soap=\"http://soap.bindexis.ch/\">\n",
    "           <soapenv:Header>\n",
    "              <soap:AuthHeader>\n",
    "                 <!--Optional:-->\n",
    "                 <soap:UserName>{0}</soap:UserName>\n",
    "                 <!--Optional:-->\n",
    "                 <soap:Password>{1}</soap:Password>\n",
    "              </soap:AuthHeader>\n",
    "           </soapenv:Header>\n",
    "           <soapenv:Body>\n",
    "              <soap:GetProjectSync>\n",
    "                 <!--Optional:-->\n",
    "                 <soap:dateToStart>{2}</soap:dateToStart>\n",
    "              </soap:GetProjectSync>\n",
    "           </soapenv:Body>\n",
    "        </soapenv:Envelope>\"\"\".format(username, \"19e22172\", time_last_run.strftime(\"%Y-%m-%dT%H:%M:%S\"))\n",
    "\n",
    "response = requests.post(url     = \"https://soap.bindexis.ch/projectsync.asmx\",\n",
    "#response = requests.post(url     = \"https://esg-opco.medc.services.axa-tech.intraxa:8443/AXACH_BindexisWebService\",\n",
    "#response = requests.post(url = \"https://172.20.205.126:8443/AXACH_BindexisWebService\",\n",
    "                         headers = {'content-type': 'text/xml'},\n",
    "                         #cert    = file,\n",
    "                         data    = data,\n",
    "                         verify  = False)\n",
    "\n",
    "import xml.sax.saxutils as saxutils\n",
    "base_text = saxutils.unescape(response.text.encode(\"utf-8\", errors=\"ignore\"))\n",
    "root = ET.fromstring(base_text[base_text.find(\"<?xml\", 1): base_text.find(\"</GetProjectSyncResult>\")])"
   ]
  },
  {
   "cell_type": "code",
   "execution_count": 61,
   "metadata": {},
   "outputs": [
    {
     "name": "stdout",
     "output_type": "stream",
     "text": [
      "1.3\n"
     ]
    }
   ],
   "source": [
    "#1.3 Extraction Description Dictionary\n",
    "print(\"1.3\")\n",
    "description_dict = {}\n",
    "\n",
    "for i in [\"PlanningStage\", \"SizeUnit\", \"RoofType\", \"ConstructionMaterial\", \"ProjCladdingType\", \n",
    "          \"DevelopmentType\", \"TargetGroupType\", \"Employee\", \"JobFunction\", \"Gender\", \"BuildingType\", \n",
    "          \"HeatingType\", \"ProjectFinalUse\"]:\n",
    "\n",
    "    aux_dict = {}\n",
    "    if i == \"ProjectFinalUse\": values = root.find(\"{0}\".format(i))\n",
    "    else:                      values = root.find(\"{0}Values\".format(i))\n",
    "\n",
    "    if i == \"BuildingType\":\n",
    "        for j in values[1:]: aux_dict[j.find(\"ProId\").text] = [j.find(\"ProDesc\").text, j.find(\"ProParentId\").text]     \n",
    "    else: \n",
    "        for j in values: aux_dict[j.find(\"UtilId\").text] = j.find(\"UtilDesc\").text\n",
    "\n",
    "    description_dict[i] = aux_dict"
   ]
  },
  {
   "cell_type": "code",
   "execution_count": 62,
   "metadata": {},
   "outputs": [
    {
     "name": "stdout",
     "output_type": "stream",
     "text": [
      "1.4\n"
     ]
    }
   ],
   "source": [
    "#1.4 Definition of Extraction Configuration Files\n",
    "print(\"1.4\")\n",
    "canton_dict = {'CH01': 'AG',     'CH02': 'AI',     'CH03': 'AR',     'CH04': 'BE',     'CH05': 'BL', \n",
    "               'CH06': 'BS',     'CH08': 'FR',     'CH09': 'GE',     'CH10': 'GL',     'CH11': 'GR', \n",
    "               'CH12': 'JU',     'CH13': 'LU',     'CH14': 'NE',     'CH15': 'NW',     'CH16': 'OW',     \n",
    "               'CH17': 'SG',     'CH18': 'SH',     'CH19': 'SO',     'CH20': 'SZ',     'CH21': 'TG',             \n",
    "               'CH22': 'TI',     'CH23': 'UR',     'CH24': 'VD',     'CH25': 'VS',     'CH26': 'ZG',     \n",
    "               'CH27': 'ZH'}\n",
    "\n",
    "bool_dict = {'False': False,     'True': True}  \n",
    "    \n",
    "project_list =   [[\"PROJECT_ID\",             \"j.find('ProjId').text\",                          \"STRING\"  ],\n",
    "                  [\"PROJECT_TITLE\",          \"j.find('ProjTitle').text\",                       \"STRING\"  ],   \n",
    "                  [\"PROJECT_PARCELID\",       \"j.find('ProjOfficialId').text\",                  \"STRING\"  ],  \n",
    "                  [\"PROJECT_LANGUAGE\",       \"j.find('ProjLanguageId').text\",                  \"STRING\"  ],\n",
    "                  [\"PROJECT_DESCRIPTION\",    \"j.find('ProjDesc').text\",                        \"STRING\"  ],\n",
    "                  [\"PROJECT_PLANNINGSTAGE\",  \"j.find('PlanningStage').text\",                   \"STRING\"  ],\n",
    "                  [\"PROJECT_INRESEARCH\",     \"bool_dict[j.find('InResearch').text]\",           \"BOOLEAN\" ],                   \n",
    "                  [\"PROJECT_FINALUSE\",       \"j.find('ProjFinalUseId').text\",                  \"STRING\" ],\n",
    "                  [\"PROJECT_VALUE\",          \"j.find('ProjValue').text\",                       \"FLOAT\"  ],\n",
    "                  [\"PROJECT_SIZE\",           \"j.find('ProjSize').text\",                        \"FLOAT\"  ],\n",
    "                  [\"PROJECT_VOLUME\",         \"j.find('ProjVolume').text\",                      \"FLOAT\"  ],\n",
    "                  [\"PROJECT_APARTMENTS\",     \"j.find('ProjApartments').text\",                  \"FLOAT\"  ],\n",
    "                  [\"PROJECT_FLOORS\",         \"j.find('ProjFloors').text\",                      \"FLOAT\"  ],\n",
    "                  [\"PROJECT_BUILDINGS\",      \"j.find('ProjBuildings').text\",                   \"FLOAT\"  ],                 \n",
    "                  [\"PROJECT_NOTE\",           \"j.find('ProjNote').text\",                        \"STRING\" ],\n",
    "                  [\"DATE_INSERTION\",         \"j.find('ProjInsertDate').text\",             \"TIMESTAMP\"    ],\n",
    "                  [\"DATE_UPDATE\",            \"j.find('ProjLatestUpdate').text\",           \"TIMESTAMP\"    ],\n",
    "                  [\"DATE_PUBLICATION\",       \"j.find('ProjConfirmDate').text\",            \"TIMESTAMP\"    ],\n",
    "                  [\"DATE_STARTCONSTRUCTION\", \"j.find('ProjConstStartDate').text\",         \"TIMESTAMP\"    ],\n",
    "                  [\"DATE_PLANNINGAPPROVAL\",  \"j.find('ProjPlanningApprovalDate').text\",   \"TIMESTAMP\"    ],\n",
    "                  [\"DETAIL_ROOFTYPE\",        \"j.find('RoofType').text\",                        \"STRING\"  ],\n",
    "                  [\"DETAIL_MATERIALS\",       \"j.find('ConstructionMaterials').text\",           \"STRING\"  ],\n",
    "                  [\"DETAIL_CLADDING\",        \"j.find('CladdingType').text\",                    \"STRING\"  ],\n",
    "                  [\"DETAIL_HEATING\",         \"j.find('HeatingType').text\",                     \"STRING\"  ], \n",
    "                  [\"DETAIL_SOLAR\",           \"bool_dict[j.find('ProjSolar').text]\",            \"BOOLEAN\" ], \n",
    "                  [\"ADDRESS_STREET1\",        \"j.find('ProjAddress1').text\",                    \"STRING\"  ],                                     \n",
    "                  [\"ADDRESS_STREET2\",        \"j.find('ProjAddress2').text\",                    \"STRING\"  ], \n",
    "                  [\"ADDRESS_STREET3\",        \"j.find('ProjAddress3').text\",                    \"STRING\"  ],                   \n",
    "                  [\"ADDRESS_CITY\",           \"j.find('ProjCity').text\",                        \"STRING\"  ],\n",
    "                  [\"ADDRESS_POSTALCODE\",     \"j.find('ProjZip').text\",                         \"INT\"     ],\n",
    "                  [\"ADDRESS_COUNTY\",         \"j.find('ProjCounty').text\",                      \"STRING\"  ],\n",
    "                  [\"ADDRESS_CANTON\",         \"j.find('ProjRegId').text\",                      \"STRING\"   ], \n",
    "                  [\"ADDRESS_COUNTRY\",        \"j.find('ProjCountryId').text\",                   \"STRING\"  ]]\n",
    "\n",
    "building_list  = [[\"PROJECT_ID\",             \"l.find('PProProjId').text\",                      \"STRING\"  ],\n",
    "                  [\"BUILDING_TYPE\",          \"l.find('BuildingType').text\",                    \"STRING\"  ],    \n",
    "                  [\"BUILDING_DEVELOPMENT\",   \"l.find('DevelopmentType').text\",                 \"STRING\"  ]]\n",
    "\n",
    "contact_list   = [[\"PROJECT_ID\",             \"n.find('TarProjId').text\",                       \"STRING\"  ],  \n",
    "                  [\"ORG_TYPE\",               \"n.find('TargetGroupType').text\",                 \"STRING\"  ],   \n",
    "                  [\"ORG_ID\",                 \"n.find('OrgId').text\",                           \"STRING\"  ], \n",
    "                  [\"ORG_NAME\",               \"n.find('OrgName').text\",                         \"STRING\"  ], \n",
    "                  [\"ORG_STREET1\",            \"n.find('OrgAddress1').text\",                     \"STRING\"  ],                                     \n",
    "                  [\"ORG_STREET2\",            \"n.find('OrgAddress2').text\",                     \"STRING\"  ], \n",
    "                  [\"ORG_STREET3\",            \"n.find('OrgAddress3').text\",                     \"STRING\"  ],                   \n",
    "                  [\"ORG_CITY\",               \"n.find('OrgCity').text\",                         \"STRING\"  ],\n",
    "                  [\"ORG_COUNTRY\",            \"n.find('OrgCountryId').text\",                    \"STRING\"  ],\n",
    "                  [\"ORG_POSTALCODE\",         \"n.find('OrgZip').text\",                          \"STRING\"  ],\n",
    "                  [\"ORG_PB_ADDRESS\",         \"n.find('OrgPostBoxAddress').text\",               \"STRING\"  ],                                     \n",
    "                  [\"ORG_PB_CITY\",            \"n.find('OrgPostBoxCity').text\",                  \"STRING\"  ], \n",
    "                  [\"ORG_PB_POSTALCODE\",      \"n.find('OrgPostBoxZip').text\",                   \"STRING\"  ],                   \n",
    "                  [\"ORG_PHONE\",              \"n.find('OrgPhone').text\",                        \"STRING\"  ],\n",
    "                  [\"ORG_EMAIL\",              \"n.find('OrgEmail').text\",                        \"STRING\"  ],\n",
    "                  [\"ORG_WEB\",                \"n.find('OrgWeb').text\",                          \"STRING\"  ],\n",
    "                  [\"ORG_EMPLOYEES\",          \"n.find('Employees').text\",                       \"STRING\"  ],\n",
    "                  [\"PERSON_ID\",              \"n.find('PerId').text\",                           \"STRING\"  ], \n",
    "                  [\"PERSON_GENDER\",          \"n.find('PerGender').text\",                       \"STRING\"  ],                                     \n",
    "                  [\"PERSON_FIRSTNAME\",       \"n.find('PerFname').text\",                        \"STRING\"  ], \n",
    "                  [\"PERSON_LASTNAME\",        \"n.find('PerLname').text\",                        \"STRING\"  ],                   \n",
    "                  [\"PERSON_PHONE\",           \"n.find('PerPhone').text\",                        \"STRING\"  ],\n",
    "                  [\"PERSON_MOBILE\",          \"n.find('PerMobile').text\",                       \"STRING\"  ],\n",
    "                  [\"PERSON_EMAIL\",           \"n.find('PerEmail').text\",                        \"STRING\"  ]]"
   ]
  },
  {
   "cell_type": "code",
   "execution_count": 63,
   "metadata": {},
   "outputs": [
    {
     "name": "stdout",
     "output_type": "stream",
     "text": [
      "1.5\n"
     ]
    }
   ],
   "source": [
    "#1.5 Feature Exctraction\n",
    "print(\"1.5\")\n",
    "\n",
    "def df_generator(attr_list):\n",
    "    df = {i[0] for i in attr_list}\n",
    "    return df\n",
    "\n",
    "df_projects = []\n",
    "df_buildings = []\n",
    "df_contacts = []\n",
    "\n",
    "for i, j in enumerate(root.find(\"Projects\")):\n",
    "    #print(\"loop1\",i)\n",
    "    #Feature Extraction df_projects\n",
    "    df_project = {} \n",
    "    for k in project_list:\n",
    "        #print(\"loop2\",i)\n",
    "        #try: df_project[k[0]] = eval(k[1])\n",
    "        try: \n",
    "            if k[2]==\"FLOAT\" and eval(k[1]) is not None: df_project[k[0]] = float(eval(k[1]))\n",
    "            elif k[2]==\"INT\" and eval(k[1]) is not None: df_project[k[0]] = int(eval(k[1]))\n",
    "            else: df_project[k[0]] = eval(k[1])\n",
    "        except AttributeError: df_project[k[0]] = None\n",
    "    df_projects.append(df_project)\n",
    "\n",
    "    #Feature Extraction df_buildings    \n",
    "    df_building = {} \n",
    "    for l in j.findall(\"BuildingType\"):\n",
    "        for k in building_list:\n",
    "            try: \n",
    "                if k[2]==\"FLOAT\" and eval(k[1]) is not None: df_building[k[0]] = float(eval(k[1]))\n",
    "                elif k[2]==\"INT\" and eval(k[1]) is not None: df_building[k[0]] = int(eval(k[1]))\n",
    "                else: df_building[k[0]] = eval(k[1])\n",
    "            except AttributeError: df_building[k[0]] = None\n",
    "    df_buildings.append(df_building)\n",
    "\n",
    "    #Feature Extraction df_target   \n",
    "    df_contact = {}  \n",
    "    for n in j.findall(\"TargetGroup\"):\n",
    "        for k in contact_list:\n",
    "            try: \n",
    "                if k[2]==\"FLOAT\" and eval(k[1]) is not None: df_contact[k[0]] = float(eval(k[1]))\n",
    "                elif k[2]==\"INT\" and eval(k[1]) is not None: df_contact[k[0]] = int(eval(k[1]))\n",
    "                else: df_contact[k[0]] = eval(k[1])\n",
    "            except AttributeError: df_contact[k[0]] = None \n",
    "    df_contacts.append(df_contact)\n",
    "\n"
   ]
  },
  {
   "cell_type": "code",
   "execution_count": 64,
   "metadata": {},
   "outputs": [
    {
     "data": {
      "text/plain": [
       "{'ADDRESS_CANTON': 'CH01',\n",
       " 'ADDRESS_CITY': 'Gipf-Oberfrick',\n",
       " 'ADDRESS_COUNTRY': 'CH',\n",
       " 'ADDRESS_COUNTY': 'Bezirk Laufenburg',\n",
       " 'ADDRESS_POSTALCODE': 5073,\n",
       " 'ADDRESS_STREET1': u'R\\xfcestelweg 1a',\n",
       " 'ADDRESS_STREET2': None,\n",
       " 'ADDRESS_STREET3': None,\n",
       " 'DATE_INSERTION': '2019-05-20T09:59:02.32+01:00',\n",
       " 'DATE_PLANNINGAPPROVAL': None,\n",
       " 'DATE_PUBLICATION': '2019-05-20T10:00:48.15+01:00',\n",
       " 'DATE_STARTCONSTRUCTION': None,\n",
       " 'DATE_UPDATE': '2019-05-20T10:00:48.217+01:00',\n",
       " 'DETAIL_CLADDING': None,\n",
       " 'DETAIL_HEATING': None,\n",
       " 'DETAIL_MATERIALS': None,\n",
       " 'DETAIL_ROOFTYPE': None,\n",
       " 'DETAIL_SOLAR': False,\n",
       " 'PROJECT_APARTMENTS': None,\n",
       " 'PROJECT_BUILDINGS': None,\n",
       " 'PROJECT_DESCRIPTION': 'Sitzplatz-Teilverglasung',\n",
       " 'PROJECT_FINALUSE': None,\n",
       " 'PROJECT_FLOORS': None,\n",
       " 'PROJECT_ID': '114BX578716',\n",
       " 'PROJECT_INRESEARCH': False,\n",
       " 'PROJECT_LANGUAGE': 'de-CH',\n",
       " 'PROJECT_NOTE': None,\n",
       " 'PROJECT_PARCELID': '1552',\n",
       " 'PROJECT_PLANNINGSTAGE': 'Baugesuch eingereicht',\n",
       " 'PROJECT_SIZE': None,\n",
       " 'PROJECT_TITLE': 'Sitzplatz-Teilverglasung',\n",
       " 'PROJECT_VALUE': -1.0,\n",
       " 'PROJECT_VOLUME': None}"
      ]
     },
     "execution_count": 64,
     "metadata": {},
     "output_type": "execute_result"
    }
   ],
   "source": [
    "df_projects[0]"
   ]
  },
  {
   "cell_type": "code",
   "execution_count": 65,
   "metadata": {},
   "outputs": [
    {
     "name": "stdout",
     "output_type": "stream",
     "text": [
      "1.6\n"
     ]
    }
   ],
   "source": [
    "#1.6 Save Data as avro\n",
    "print(\"1.6\")\n",
    "\n",
    "import uuid\n",
    "import avro.schema\n",
    "import json\n",
    "from avro.datafile import DataFileReader, DataFileWriter\n",
    "from avro.io import DatumReader, DatumWriter\n",
    "\n",
    "def save_avro_output(file_name, records, list_name):\n",
    "    \"\"\"\n",
    "    Given a list of records, saves to file in Avro format.\n",
    "    :param file_name: name of file to write Avro data\n",
    "    :param records: list of dicts, containing the actual records to be saved\n",
    "    :param list_name: list of list, containing the column names and types\n",
    "    :return: \n",
    "    \"\"\"\n",
    "    avro_schema = avro.schema.parse(json.dumps({\n",
    "        \"namespace\": file_name,\n",
    "        \"type\": \"record\",\n",
    "        \"name\": file_name,\n",
    "        \"fields\": [{\"name\": i[0], \"type\": [i[2].lower(),\"null\"]} for i in list_name if i[2].lower()!=\"timestamp\"] +\n",
    "                  [{\"name\": i[0], \"type\": [{\"type\": \"string\", \"logicalType\": \"timestamp-millis\"}, \"null\"]} for i in list_name if i[2].lower()==\"timestamp\"]\n",
    "    }))\n",
    "\n",
    "    #os.remove(file_name)\n",
    "    writer = DataFileWriter(open(file_name, \"wb\"), DatumWriter(), avro_schema)\n",
    "    \n",
    "    for record in records:\n",
    "        writer.append(record)\n",
    "\n",
    "    writer.close()\n",
    "\n",
    "save_avro_output('{}/df_projects.avro'.format(tempfile.gettempdir()), df_projects, project_list)\n",
    "save_avro_output('{}/df_buildings.avro'.format(tempfile.gettempdir()), df_buildings, building_list)\n",
    "save_avro_output('{}/df_contacts.avro'.format(tempfile.gettempdir()), df_contacts, contact_list)\n",
    "\n",
    "blob = bucket_cs.blob(path_data_va+'df_projects.avro')\n",
    "blob.upload_from_filename('{}/df_projects.avro'.format(tempfile.gettempdir()))\n",
    "blob = bucket_cs.blob(path_data_va+'df_buildings.avro')\n",
    "blob.upload_from_filename('{}/df_buildings.avro'.format(tempfile.gettempdir()))\n",
    "blob = bucket_cs.blob(path_data_va+'df_contacts.avro')\n",
    "blob.upload_from_filename('{}/df_contacts.avro'.format(tempfile.gettempdir()))"
   ]
  },
  {
   "cell_type": "markdown",
   "metadata": {},
   "source": [
    "## TEST - Save avro file to bigquery"
   ]
  },
  {
   "cell_type": "code",
   "execution_count": 70,
   "metadata": {},
   "outputs": [
    {
     "name": "stdout",
     "output_type": "stream",
     "text": [
      "Launching local job ... hang on\n",
      "Done!\n",
      "Launching local job ... hang on\n",
      "Done!\n",
      "Launching local job ... hang on\n",
      "Done!\n"
     ]
    }
   ],
   "source": [
    "# https://beam.apache.org/documentation/io/built-in/google-bigquery/\n",
    "# https://beam.apache.org/documentation/programming-guide/#pcollections\n",
    "import apache_beam as beam\n",
    "import datetime\n",
    "import shutil, os, subprocess\n",
    "from apache_beam.io.gcp.internal.clients import bigquery\n",
    "\n",
    "DATASET = 'BINDEXIS'\n",
    "\n",
    "def preprocess(in_test_mode, file_name, project_id, bucket_id, dataset_id, table_id, list_name):\n",
    "    import shutil, os, subprocess\n",
    "    job_name = 'bindexis-dataload' + '-' + file_name + '-' + datetime.datetime.now().strftime('%y%m%d-%H%M%S')\n",
    "\n",
    "    table_spec = bigquery.TableReference(\n",
    "        projectId=project_id,\n",
    "        datasetId=dataset_id,\n",
    "        tableId=table_id)\n",
    "\n",
    "    table_schema = {\n",
    "        \"fields\": [{\"name\": i[0] , \"type\": i[2].replace('INT','INTEGER')} for i in list_name]\n",
    "    }\n",
    "\n",
    "    if in_test_mode:\n",
    "        print('Launching local job ... hang on')\n",
    "        OUTPUT_DIR = './preproc'\n",
    "        shutil.rmtree(OUTPUT_DIR, ignore_errors=True)\n",
    "        os.makedirs(OUTPUT_DIR)\n",
    "    else:\n",
    "        print('Launching Dataflow job {} ... hang on'.format(job_name))\n",
    "        OUTPUT_DIR = 'gs://{0}/bindexis/data/various/'.format(bucket_id)\n",
    "        try:\n",
    "            subprocess.check_call('gsutil -m rm -r {}'.format(OUTPUT_DIR).split())\n",
    "        except:\n",
    "            pass\n",
    "\n",
    "    options = {\n",
    "        'staging_location': os.path.join(OUTPUT_DIR, 'tmp', 'staging'),\n",
    "        'temp_location': os.path.join(OUTPUT_DIR, 'tmp'),\n",
    "        'job_name': job_name,\n",
    "        'project': project_id,\n",
    "        'region': REGION,\n",
    "        'teardown_policy': 'TEARDOWN_ALWAYS',\n",
    "        'no_save_main_session': True\n",
    "    }\n",
    "    opts = beam.pipeline.PipelineOptions(flags = [], **options)\n",
    "\n",
    "    if in_test_mode:\n",
    "        RUNNER = 'DirectRunner'\n",
    "    else:\n",
    "        RUNNER = 'DataflowRunner'\n",
    "    p = beam.Pipeline(RUNNER, options = opts)\n",
    "\n",
    "    # Write the file\n",
    "    (p\n",
    "        | 'ReadAvroFromGCS' >> beam.io.avroio.ReadFromAvro('gs://{0}/{1}{2}'.format(BUCKET,path_data_va,file_name))\n",
    "        #| 'ReadAvroFromGCS' >> beam.io.avroio.ReadFromAvro(file_name)\n",
    "        | 'WriteToBigQuery' >> beam.io.WriteToBigQuery(\n",
    "            table_spec,\n",
    "            schema=table_schema,\n",
    "            #write_disposition=beam.io.BigQueryDisposition.WRITE_TRUNCATE,\n",
    "            write_disposition=beam.io.BigQueryDisposition.WRITE_APPEND,\n",
    "            create_disposition=beam.io.BigQueryDisposition.CREATE_IF_NEEDED)\n",
    "        )\n",
    "\n",
    "    # Run the pipeline\n",
    "    job = p.run()\n",
    "    if in_test_mode:\n",
    "        job.wait_until_finish()\n",
    "        print(\"Done!\")\n",
    "    \n",
    "preprocess(in_test_mode=True, file_name='df_buildings.avro', \n",
    "           project_id=PROJECT, bucket_id=BUCKET, \n",
    "           dataset_id=DATASET, table_id='df_buildings', list_name=building_list)\n",
    "\n",
    "preprocess(in_test_mode=True, file_name='df_contacts.avro', \n",
    "           project_id=PROJECT, bucket_id=BUCKET, \n",
    "           dataset_id=DATASET, table_id='df_contacts', list_name=contact_list)\n",
    "\n",
    "preprocess(in_test_mode=True, file_name='df_projects.avro', \n",
    "           project_id=PROJECT, bucket_id=BUCKET, \n",
    "           dataset_id=DATASET, table_id='df_projects', list_name=project_list)"
   ]
  },
  {
   "cell_type": "code",
   "execution_count": 48,
   "metadata": {},
   "outputs": [
    {
     "data": {
      "text/plain": [
       "738"
      ]
     },
     "execution_count": 48,
     "metadata": {},
     "output_type": "execute_result"
    }
   ],
   "source": [
    "len(df_projects)"
   ]
  },
  {
   "cell_type": "markdown",
   "metadata": {},
   "source": [
    "## TEST - Transformations"
   ]
  },
  {
   "cell_type": "code",
   "execution_count": 53,
   "metadata": {},
   "outputs": [],
   "source": [
    "# https://beam.apache.org/documentation/io/built-in/google-bigquery/\n",
    "# https://beam.apache.org/documentation/programming-guide/#pcollections\n",
    "import apache_beam as beam\n",
    "import datetime\n",
    "import shutil, os, subprocess\n",
    "from apache_beam.io.gcp.internal.clients import bigquery\n",
    "\n",
    "DATASET = 'BINDEXIS'\n",
    "\n",
    "def preprocess(in_test_mode, file_name, project_id, bucket_id, dataset_id, table_id, list_name):\n",
    "    import shutil, os, subprocess\n",
    "    job_name = 'bindexis-dataload' + '-' + file_name + '-' + datetime.datetime.now().strftime('%y%m%d-%H%M%S')\n",
    "\n",
    "    table_spec = bigquery.TableReference(\n",
    "        projectId=project_id,\n",
    "        datasetId=dataset_id,\n",
    "        tableId=table_id)\n",
    "\n",
    "    table_schema = {\n",
    "        \"fields\": [{\"name\": i[0] , \"type\": i[2].replace('INT','INTEGER')} for i in list_name]\n",
    "    }\n",
    "\n",
    "    if in_test_mode:\n",
    "        print('Launching local job ... hang on')\n",
    "        OUTPUT_DIR = './preproc'\n",
    "        shutil.rmtree(OUTPUT_DIR, ignore_errors=True)\n",
    "        os.makedirs(OUTPUT_DIR)\n",
    "    else:\n",
    "        print('Launching Dataflow job {} ... hang on'.format(job_name))\n",
    "        OUTPUT_DIR = 'gs://{0}/bindexis/data/various/'.format(bucket_id)\n",
    "        try:\n",
    "            subprocess.check_call('gsutil -m rm -r {}'.format(OUTPUT_DIR).split())\n",
    "        except:\n",
    "            pass\n",
    "\n",
    "    options = {\n",
    "        'staging_location': os.path.join(OUTPUT_DIR, 'tmp', 'staging'),\n",
    "        'temp_location': os.path.join(OUTPUT_DIR, 'tmp'),\n",
    "        'job_name': job_name,\n",
    "        'project': project_id,\n",
    "        'region': REGION,\n",
    "        'teardown_policy': 'TEARDOWN_ALWAYS',\n",
    "        'no_save_main_session': True\n",
    "    }\n",
    "    opts = beam.pipeline.PipelineOptions(flags = [], **options)\n",
    "\n",
    "    if in_test_mode:\n",
    "        RUNNER = 'DirectRunner'\n",
    "    else:\n",
    "        RUNNER = 'DataflowRunner'\n",
    "    p = beam.Pipeline(RUNNER, options = opts)\n",
    "\n",
    "    import json\n",
    "    \n",
    "    # Transformations\n",
    "    \n",
    "    #General Data Preparation        \n",
    "    class data_cleanser(beam.DoFn):\n",
    "        def process(self, data_item):    \n",
    "            data_item = json.dumps(data_item, separators=(',', ': '))\n",
    "            data_item = json.loads(data_item)\n",
    "            \n",
    "            for i in list_name: \n",
    "                #if i[0] in [\"PROJECT_INRESEARCH\", \"DETAIL_SOLAR\"]: df[i[0]] = df[i[0]].apply(lambda x: 1 if x == \"True\" else 0)\n",
    "                #elif i[2]     == \"TIMESTAMP\": df[i[0]] = df[i[0]].apply(lambda x: pd.to_datetime(x, format = \"%Y-%m-%dT%H:%M:%S\")).fillna(datetime.datetime(1900,1,1))\n",
    "                #elif i[2]     == \"FLOAT\":     df[i[0]] = df[i[0]].astype(float).fillna(0)\n",
    "                if (i[2]     == \"STRING\") & (data_item[i[0]]!=None):    data_item[i[0]] = data_item[i[0]].replace(\"\\r\\n\", \" \").replace(\"\\n\", \" \")\n",
    "                elif (i[2]     == \"TIMESTAMP\") & (data_item[i[0]]!=None):    data_item[i[0]] = data_item[i[0]][:-6]\n",
    "            \n",
    "            #Cleaning df_projects\n",
    "            if table_id=='df_projects':\n",
    "                data_item = json.dumps(data_item, separators=(',', ': '))\n",
    "                data_item = json.loads(data_item)\n",
    "                data_item['ADDRESS_CANTON'] = unicode(canton_dict[data_item['ADDRESS_CANTON']], \"utf-8\")\n",
    "                data_item['PROJECT_LANGUAGE'] = data_item['PROJECT_LANGUAGE'][0:2].upper()\n",
    "                data_item[\"PROJECT_FINALUSE\"] = unicode(description_dict['ProjectFinalUse'][data_item[\"PROJECT_FINALUSE\"]], \"utf-8\") if data_item[\"PROJECT_FINALUSE\"]!=None else data_item[\"PROJECT_FINALUSE\"]\n",
    "                data_item[\"PROJECT_VALUE\"] = 0 if data_item[\"PROJECT_VALUE\"] < 0 else data_item[\"PROJECT_VALUE\"]\n",
    "                \n",
    "            #Cleaning df_contacts\n",
    "            if table_id=='df_contacts':\n",
    "                def phone_number_sanitizer(x):\n",
    "                    if x == None or x==\"\":                     return None\n",
    "                    else: x = x.replace(\" \", \"\")\n",
    "\n",
    "                    if any(c.isalpha() for c in x):     return None\n",
    "                    elif (x[0] == \"0\") & (x[1] != \"0\"): return \"+41\" + x[1:]\n",
    "                    elif x[:2] == \"00\":                 return \"+\" + x[2:]\n",
    "                    return \n",
    "\n",
    "                data_item[\"ORG_PHONE\"]     = phone_number_sanitizer(data_item[\"ORG_PHONE\"])\n",
    "                data_item[\"PERSON_PHONE\"]  = phone_number_sanitizer(data_item[\"PERSON_PHONE\"])\n",
    "                data_item[\"PERSON_MOBILE\"] = phone_number_sanitizer(data_item[\"PERSON_MOBILE\"])\n",
    "\n",
    "            yield data_item\n",
    "            \n",
    "    class Printer(beam.DoFn):\n",
    "        def process(self,data_item):\n",
    "            print (data_item)\n",
    "            \n",
    "        \n",
    "    # Write the file\n",
    "    (p\n",
    "#        | 'ReadAvroFromGCS' >> beam.io.avroio.ReadFromAvro('gs://{0}/{1}{2}'.format(BUCKET,path_data_va,file_name))\n",
    "        | 'ReadAvroFromGCS' >> beam.io.avroio.ReadFromAvro(file_name)\n",
    "        #| beam.Map(json.dumps)\n",
    "        #| beam.Map(json.loads)\n",
    "        | 'data_cleanser' >> beam.ParDo(data_cleanser(list_name))\n",
    "#        | 'WriteToBigQuery' >> beam.io.WriteToBigQuery(\n",
    "#            table_spec,\n",
    "#            schema=table_schema,\n",
    "#            #write_disposition=beam.io.BigQueryDisposition.WRITE_TRUNCATE,\n",
    "#            write_disposition=beam.io.BigQueryDisposition.WRITE_APPEND,\n",
    "#            create_disposition=beam.io.BigQueryDisposition.CREATE_IF_NEEDED)\n",
    "        #| 'write_out' >> beam.io.Write(beam.io.WriteToText(os.path.join(OUTPUT_DIR, '{}.csv'.format(table_id)), num_shards=1))\n",
    "        | 'Printer the data 01' >> beam.ParDo(Printer())\n",
    "        )\n",
    "\n",
    "    # Run the pipeline\n",
    "    job = p.run()\n",
    "    if in_test_mode:\n",
    "        job.wait_until_finish()\n",
    "        print(\"Done!\")\n"
   ]
  },
  {
   "cell_type": "code",
   "execution_count": 54,
   "metadata": {},
   "outputs": [
    {
     "name": "stdout",
     "output_type": "stream",
     "text": [
      "Launching local job ... hang on\n",
      "{u'DETAIL_HEATING': None, u'PROJECT_DESCRIPTION': u'Abbruch des bestehenden Satteldaches und Aufstockung auf das bestehende Einfamilienhaus sowie neue Aussenw\\xe4rmed\\xe4mmung', u'ADDRESS_POSTALCODE': 3052, u'DATE_STARTCONSTRUCTION': None, u'PROJECT_SIZE': None, u'ADDRESS_CITY': u'Zollikofen', u'PROJECT_PARCELID': u'932', u'DETAIL_SOLAR': False, u'PROJECT_ID': u'114BX576380', u'ADDRESS_COUNTRY': u'CH', u'DATE_UPDATE': u'2019-05-15T12:21:55.04+01:00', u'PROJECT_TITLE': u'Aufstockung Einfamilienhaus, Aussenw\\xe4rmed\\xe4mmung', u'ADDRESS_STREET1': u'Starenweg 10', u'DATE_PUBLICATION': u'2019-05-15T12:21:55.033+01:00', u'PROJECT_INRESEARCH': False, u'ADDRESS_STREET2': None, u'DETAIL_ROOFTYPE': None, u'DETAIL_CLADDING': u'unbestimmt', u'PROJECT_LANGUAGE': u'DE', u'PROJECT_VALUE': 0, u'PROJECT_APARTMENTS': None, u'PROJECT_BUILDINGS': None, u'ADDRESS_CANTON': u'BE', u'DETAIL_MATERIALS': None, u'PROJECT_VOLUME': None, u'DATE_INSERTION': u'2019-05-15T12:18:54.51+01:00', u'PROJECT_NOTE': None, u'ADDRESS_COUNTY': u'Amtsbezirk Bern', u'PROJECT_PLANNINGSTAGE': u'Baugesuch eingereicht', u'PROJECT_FLOORS': None, u'DATE_PLANNINGAPPROVAL': None, u'ADDRESS_STREET3': None, u'PROJECT_FINALUSE': None}\n",
      "{u'DETAIL_HEATING': None, u'PROJECT_DESCRIPTION': u'D\\xe9molition des b\\xe2timents et remise en \\xe9tat du terrain', u'ADDRESS_POSTALCODE': 2740, u'DATE_STARTCONSTRUCTION': None, u'PROJECT_SIZE': None, u'ADDRESS_CITY': u'Moutier', u'PROJECT_PARCELID': u'1244', u'DETAIL_SOLAR': False, u'PROJECT_ID': u'114BX576382', u'ADDRESS_COUNTRY': u'CH', u'DATE_UPDATE': u'2019-05-15T12:23:50.237+01:00', u'PROJECT_TITLE': u'D\\xe9molition des b\\xe2timents', u'ADDRESS_STREET1': u'chemin de la Cit\\xe9 8, 8A', u'DATE_PUBLICATION': u'2019-05-15T12:23:50.23+01:00', u'PROJECT_INRESEARCH': False, u'ADDRESS_STREET2': None, u'DETAIL_ROOFTYPE': None, u'DETAIL_CLADDING': None, u'PROJECT_LANGUAGE': u'FR', u'PROJECT_VALUE': 0, u'PROJECT_APARTMENTS': None, u'PROJECT_BUILDINGS': None, u'ADDRESS_CANTON': u'BE', u'DETAIL_MATERIALS': None, u'PROJECT_VOLUME': None, u'DATE_INSERTION': u'2019-05-15T12:22:51.323+01:00', u'PROJECT_NOTE': None, u'ADDRESS_COUNTY': u'District de Moutier', u'PROJECT_PLANNINGSTAGE': u'Baugesuch eingereicht', u'PROJECT_FLOORS': None, u'DATE_PLANNINGAPPROVAL': None, u'ADDRESS_STREET3': None, u'PROJECT_FINALUSE': None}\n",
      "{u'DETAIL_HEATING': None, u'PROJECT_DESCRIPTION': u'Assainissement thermique des fa\\xe7ades, remplacement des fen\\xeatres et des stores, pose de nouveaux garde-corps sur balcons, assainissement thermique de la toiture sur rez, pose de capteurs solaires thermiques en toiture', u'ADDRESS_POSTALCODE': 2740, u'DATE_STARTCONSTRUCTION': None, u'PROJECT_SIZE': None, u'ADDRESS_CITY': u'Moutier', u'PROJECT_PARCELID': u'715', u'DETAIL_SOLAR': True, u'PROJECT_ID': u'114BX576384', u'ADDRESS_COUNTRY': u'CH', u'DATE_UPDATE': u'2019-05-15T12:27:19.27+01:00', u'PROJECT_TITLE': u'Assainissement thermique du b\\xe2timent', u'ADDRESS_STREET1': u'avenue de la Gare 16', u'DATE_PUBLICATION': u'2019-05-15T12:27:19.267+01:00', u'PROJECT_INRESEARCH': False, u'ADDRESS_STREET2': None, u'DETAIL_ROOFTYPE': None, u'DETAIL_CLADDING': None, u'PROJECT_LANGUAGE': u'FR', u'PROJECT_VALUE': 0, u'PROJECT_APARTMENTS': None, u'PROJECT_BUILDINGS': None, u'ADDRESS_CANTON': u'BE', u'DETAIL_MATERIALS': None, u'PROJECT_VOLUME': None, u'DATE_INSERTION': u'2019-05-15T12:26:04.743+01:00', u'PROJECT_NOTE': None, u'ADDRESS_COUNTY': u'District de Moutier', u'PROJECT_PLANNINGSTAGE': u'Baugesuch eingereicht', u'PROJECT_FLOORS': None, u'DATE_PLANNINGAPPROVAL': None, u'ADDRESS_STREET3': None, u'PROJECT_FINALUSE': None}\n",
      "{u'DETAIL_HEATING': u'W\\xe4rmepumpe', u'PROJECT_DESCRIPTION': u'Sanierung Ferienhaus und \\xc4nderung der Dachneigung, Einbau Photovoltaikanlage und montieren von Solarkollektoren am Gel\\xe4nder sowie aufstellen einer aussen aufgestellten W\\xe4rmepumpe', u'ADDRESS_POSTALCODE': 6083, u'DATE_STARTCONSTRUCTION': None, u'PROJECT_SIZE': None, u'ADDRESS_CITY': u'Hasliberg Hohfluh', u'PROJECT_PARCELID': u'1732', u'DETAIL_SOLAR': True, u'PROJECT_ID': u'114BX576316', u'ADDRESS_COUNTRY': u'CH', u'DATE_UPDATE': u'2019-05-15T12:37:46.507+01:00', u'PROJECT_TITLE': u'Sanierung Ferienhaus und \\xc4nderung der Dachneigung', u'ADDRESS_STREET1': u'Biitifluh 168A', u'DATE_PUBLICATION': u'2019-05-15T12:37:46.503+01:00', u'PROJECT_INRESEARCH': False, u'ADDRESS_STREET2': None, u'DETAIL_ROOFTYPE': None, u'DETAIL_CLADDING': None, u'PROJECT_LANGUAGE': u'DE', u'PROJECT_VALUE': 0, u'PROJECT_APARTMENTS': None, u'PROJECT_BUILDINGS': None, u'ADDRESS_CANTON': u'BE', u'DETAIL_MATERIALS': None, u'PROJECT_VOLUME': None, u'DATE_INSERTION': u'2019-05-15T10:40:51.8+01:00', u'PROJECT_NOTE': u'- p. Adr. Konzept Wyler AG, Stockmatte 967B, 3855 Brienz.', u'ADDRESS_COUNTY': u'Amtsbezirk Oberhasli', u'PROJECT_PLANNINGSTAGE': u'Baugesuch eingereicht', u'PROJECT_FLOORS': None, u'DATE_PLANNINGAPPROVAL': None, u'ADDRESS_STREET3': None, u'PROJECT_FINALUSE': None}\n",
      "{u'DETAIL_HEATING': None, u'PROJECT_DESCRIPTION': u'Neubau Rampe Betriebszentrale 2 ab Unterf\\xfchrung SBB', u'ADDRESS_POSTALCODE': 3302, u'DATE_STARTCONSTRUCTION': None, u'PROJECT_SIZE': None, u'ADDRESS_CITY': u'Moosseedorf', u'PROJECT_PARCELID': u'91', u'DETAIL_SOLAR': False, u'PROJECT_ID': u'114BX576370', u'ADDRESS_COUNTRY': u'CH', u'DATE_UPDATE': u'2019-05-15T12:38:46.393+01:00', u'PROJECT_TITLE': u'Neubau Rampe Betriebszentrale 2', u'ADDRESS_STREET1': u'Industriestrasse', u'DATE_PUBLICATION': u'2019-05-15T12:38:46.387+01:00', u'PROJECT_INRESEARCH': False, u'ADDRESS_STREET2': None, u'DETAIL_ROOFTYPE': None, u'DETAIL_CLADDING': None, u'PROJECT_LANGUAGE': u'DE', u'PROJECT_VALUE': 0, u'PROJECT_APARTMENTS': None, u'PROJECT_BUILDINGS': None, u'ADDRESS_CANTON': u'BE', u'DETAIL_MATERIALS': None, u'PROJECT_VOLUME': None, u'DATE_INSERTION': u'2019-05-15T12:09:47.01+01:00', u'PROJECT_NOTE': None, u'ADDRESS_COUNTY': u'Amtsbezirk Fraubrunnen', u'PROJECT_PLANNINGSTAGE': u'Baugesuch eingereicht', u'PROJECT_FLOORS': None, u'DATE_PLANNINGAPPROVAL': None, u'ADDRESS_STREET3': None, u'PROJECT_FINALUSE': None}\n",
      "{u'DETAIL_HEATING': None, u'PROJECT_DESCRIPTION': u'Abbruch und Neubau Spycher', u'ADDRESS_POSTALCODE': 4923, u'DATE_STARTCONSTRUCTION': None, u'PROJECT_SIZE': None, u'ADDRESS_CITY': u'Wynau', u'PROJECT_PARCELID': u'932', u'DETAIL_SOLAR': False, u'PROJECT_ID': u'114BX576390', u'ADDRESS_COUNTRY': u'CH', u'DATE_UPDATE': u'2019-05-15T12:33:58.27+01:00', u'PROJECT_TITLE': u'Neubau Spycher', u'ADDRESS_STREET1': u'Aarwangenstrasse 16A', u'DATE_PUBLICATION': u'2019-05-15T12:33:58.263+01:00', u'PROJECT_INRESEARCH': False, u'ADDRESS_STREET2': None, u'DETAIL_ROOFTYPE': None, u'DETAIL_CLADDING': None, u'PROJECT_LANGUAGE': u'DE', u'PROJECT_VALUE': 0, u'PROJECT_APARTMENTS': None, u'PROJECT_BUILDINGS': None, u'ADDRESS_CANTON': u'BE', u'DETAIL_MATERIALS': None, u'PROJECT_VOLUME': None, u'DATE_INSERTION': u'2019-05-15T12:29:30.54+01:00', u'PROJECT_NOTE': u'Publiziert in Wynau', u'ADDRESS_COUNTY': u'Amtsbezirk Aarwangen', u'PROJECT_PLANNINGSTAGE': u'Baugesuch eingereicht', u'PROJECT_FLOORS': None, u'DATE_PLANNINGAPPROVAL': None, u'ADDRESS_STREET3': None, u'PROJECT_FINALUSE': None}\n",
      "{u'DETAIL_HEATING': None, u'PROJECT_DESCRIPTION': u\"Construction d'un balcon sur fa\\xe7ade sud du b\\xe2timent, ouverture d'une porte-fen\\xeatre en lieu et place d'une fen\\xeatre existante\", u'ADDRESS_POSTALCODE': 2762, u'DATE_STARTCONSTRUCTION': None, u'PROJECT_SIZE': None, u'ADDRESS_CITY': u'Roches BE', u'PROJECT_PARCELID': u'573', u'DETAIL_SOLAR': False, u'PROJECT_ID': u'114BX576392', u'ADDRESS_COUNTRY': u'CH', u'DATE_UPDATE': u'2019-05-15T12:33:10.817+01:00', u'PROJECT_TITLE': u'Construction balcon, ouverture de porte-fen\\xeatre', u'ADDRESS_STREET1': u'champs Lajoux 83', u'DATE_PUBLICATION': u'2019-05-15T12:33:10.81+01:00', u'PROJECT_INRESEARCH': False, u'ADDRESS_STREET2': None, u'DETAIL_ROOFTYPE': None, u'DETAIL_CLADDING': None, u'PROJECT_LANGUAGE': u'FR', u'PROJECT_VALUE': 0, u'PROJECT_APARTMENTS': None, u'PROJECT_BUILDINGS': None, u'ADDRESS_CANTON': u'BE', u'DETAIL_MATERIALS': None, u'PROJECT_VOLUME': None, u'DATE_INSERTION': u'2019-05-15T12:31:15.467+01:00', u'PROJECT_NOTE': None, u'ADDRESS_COUNTY': u'District de Moutier', u'PROJECT_PLANNINGSTAGE': u'Baugesuch eingereicht', u'PROJECT_FLOORS': None, u'DATE_PLANNINGAPPROVAL': None, u'ADDRESS_STREET3': None, u'PROJECT_FINALUSE': None}\n",
      "{u'DETAIL_HEATING': None, u'PROJECT_DESCRIPTION': u\"Pose d'une pergola \\xe0 lames orientables sur la terrasse existante, fa\\xe7ade sud\", u'ADDRESS_POSTALCODE': 2740, u'DATE_STARTCONSTRUCTION': None, u'PROJECT_SIZE': None, u'ADDRESS_CITY': u'Moutier', u'PROJECT_PARCELID': u'2058', u'DETAIL_SOLAR': False, u'PROJECT_ID': u'114BX576372', u'ADDRESS_COUNTRY': u'CH', u'DATE_UPDATE': u'2019-05-15T12:14:37.727+01:00', u'PROJECT_TITLE': u\"Pose d'une pergola\", u'ADDRESS_STREET1': u'chemin des Rocailles 10', u'DATE_PUBLICATION': u'2019-05-15T12:14:37.723+01:00', u'PROJECT_INRESEARCH': False, u'ADDRESS_STREET2': None, u'DETAIL_ROOFTYPE': None, u'DETAIL_CLADDING': None, u'PROJECT_LANGUAGE': u'FR', u'PROJECT_VALUE': 0, u'PROJECT_APARTMENTS': None, u'PROJECT_BUILDINGS': None, u'ADDRESS_CANTON': u'BE', u'DETAIL_MATERIALS': None, u'PROJECT_VOLUME': None, u'DATE_INSERTION': u'2019-05-15T12:12:41.513+01:00', u'PROJECT_NOTE': None, u'ADDRESS_COUNTY': u'District de Moutier', u'PROJECT_PLANNINGSTAGE': u'Baugesuch eingereicht', u'PROJECT_FLOORS': None, u'DATE_PLANNINGAPPROVAL': None, u'ADDRESS_STREET3': None, u'PROJECT_FINALUSE': None}\n",
      "{u'DETAIL_HEATING': None, u'PROJECT_DESCRIPTION': u'Aufstellen und Betreiben eines mobilen Legehennenstalls Projekt\\xe4nderung vom 15.05.2019: mobiler Legehennenstall, zus\\xe4tzliche Fl\\xe4chen f\\xfcr Standorte definieren', u'ADDRESS_POSTALCODE': 3043, u'DATE_STARTCONSTRUCTION': None, u'PROJECT_SIZE': None, u'ADDRESS_CITY': u'Uettligen', u'PROJECT_PARCELID': u'2507, 2508, 2510, 2495, 2511, 2512, 2514, 2513', u'DETAIL_SOLAR': False, u'PROJECT_ID': u'114BX576374', u'ADDRESS_COUNTRY': u'CH', u'DATE_UPDATE': u'2019-05-15T12:17:27.787+01:00', u'PROJECT_TITLE': u'Projekt\\xe4nderung mobiler Legehennenstall', u'ADDRESS_STREET1': u'Sch\\xfcpfenried', u'DATE_PUBLICATION': u'2019-05-15T12:17:27.78+01:00', u'PROJECT_INRESEARCH': False, u'ADDRESS_STREET2': None, u'DETAIL_ROOFTYPE': None, u'DETAIL_CLADDING': None, u'PROJECT_LANGUAGE': u'DE', u'PROJECT_VALUE': 0, u'PROJECT_APARTMENTS': None, u'PROJECT_BUILDINGS': None, u'ADDRESS_CANTON': u'BE', u'DETAIL_MATERIALS': None, u'PROJECT_VOLUME': None, u'DATE_INSERTION': u'2019-05-15T12:16:07.067+01:00', u'PROJECT_NOTE': u'Weitere Parzellen: 2501, 2502, 2503, 2504, 2484, 2485, 2486, 1921, 2538, 2547, 2552, 2555, 2567, 2556, 2557, 2558 Publiziert in Wohlen bei Bern', u'ADDRESS_COUNTY': u'Amtsbezirk Bern', u'PROJECT_PLANNINGSTAGE': u'Baugesuch eingereicht', u'PROJECT_FLOORS': None, u'DATE_PLANNINGAPPROVAL': None, u'ADDRESS_STREET3': None, u'PROJECT_FINALUSE': None}\n",
      "{u'DETAIL_HEATING': None, u'PROJECT_DESCRIPTION': u\"Construction d'une cage d'ascenseur ext\\xe9rieure en fa\\xe7ade nord avec isolation cr\\xe9pie blanc cass\\xe9, toit plat sur ascenseur et \\xe9tanch\\xe9it\\xe9 bitumineuse\", u'ADDRESS_POSTALCODE': 2735, u'DATE_STARTCONSTRUCTION': None, u'PROJECT_SIZE': None, u'ADDRESS_CITY': u'B\\xe9vilard', u'PROJECT_PARCELID': u'127', u'DETAIL_SOLAR': False, u'PROJECT_ID': u'114BX576406', u'ADDRESS_COUNTRY': u'CH', u'DATE_UPDATE': u'2019-05-15T12:55:33.763+01:00', u'PROJECT_TITLE': u\"Construction d'une cage d'ascenseur ext\\xe9rieure\", u'ADDRESS_STREET1': u'Fin Lombard 3', u'DATE_PUBLICATION': u'2019-05-15T12:55:33.76+01:00', u'PROJECT_INRESEARCH': False, u'ADDRESS_STREET2': None, u'DETAIL_ROOFTYPE': None, u'DETAIL_CLADDING': None, u'PROJECT_LANGUAGE': u'FR', u'PROJECT_VALUE': 0, u'PROJECT_APARTMENTS': None, u'PROJECT_BUILDINGS': None, u'ADDRESS_CANTON': u'BE', u'DETAIL_MATERIALS': None, u'PROJECT_VOLUME': None, u'DATE_INSERTION': u'2019-05-15T12:49:47.883+01:00', u'PROJECT_NOTE': None, u'ADDRESS_COUNTY': u'District de Moutier', u'PROJECT_PLANNINGSTAGE': u'Baugesuch eingereicht', u'PROJECT_FLOORS': None, u'DATE_PLANNINGAPPROVAL': None, u'ADDRESS_STREET3': None, u'PROJECT_FINALUSE': None}\n",
      "{u'DETAIL_HEATING': None, u'PROJECT_DESCRIPTION': u'R\\xfcckbau bestehendes Wohngeb\\xe4ude, Neubau 3 Mehrfamilienh\\xe4user mit Einstellhalle', u'ADDRESS_POSTALCODE': 3052, u'DATE_STARTCONSTRUCTION': None, u'PROJECT_SIZE': None, u'ADDRESS_CITY': u'Zollikofen', u'PROJECT_PARCELID': u'1063, 1109', u'DETAIL_SOLAR': False, u'PROJECT_ID': u'177BX938', u'ADDRESS_COUNTRY': u'CH', u'DATE_UPDATE': u'2019-05-15T12:32:14.4+01:00', u'PROJECT_TITLE': u'Neubau 3 Mehrfamilienh\\xe4user mit Einstellhalle', u'ADDRESS_STREET1': u'Augsburgerstrasse 15, 17', u'DATE_PUBLICATION': u'2019-05-15T12:32:14.34+01:00', u'PROJECT_INRESEARCH': True, u'ADDRESS_STREET2': None, u'DETAIL_ROOFTYPE': None, u'DETAIL_CLADDING': u'unbestimmt', u'PROJECT_LANGUAGE': u'DE', u'PROJECT_VALUE': 0, u'PROJECT_APARTMENTS': None, u'PROJECT_BUILDINGS': 3.0, u'ADDRESS_CANTON': u'BE', u'DETAIL_MATERIALS': None, u'PROJECT_VOLUME': None, u'DATE_INSERTION': u'2019-05-15T12:28:51.627+01:00', u'PROJECT_NOTE': None, u'ADDRESS_COUNTY': u'Amtsbezirk Bern', u'PROJECT_PLANNINGSTAGE': u'Baugesuch eingereicht', u'PROJECT_FLOORS': None, u'DATE_PLANNINGAPPROVAL': None, u'ADDRESS_STREET3': None, u'PROJECT_FINALUSE': None}\n",
      "{u'DETAIL_HEATING': None, u'PROJECT_DESCRIPTION': u\"Transformation et r\\xe9novation des appartements, remplacement des fen\\xeatres, remplacement des tuiles, peinture fa\\xe7ade blanc cass\\xe9, changement de la chaudi\\xe8re, mise en conformit\\xe9 des  installations \\xe9lectriques, pose d'une nouvelle toiture sur les garages en Eternit ondul\\xe9es brun, am\\xe9nagement d'une place grois\\xe9e et d\\xe9placement du muret pr\\xe8s des garages\", u'ADDRESS_POSTALCODE': 2735, u'DATE_STARTCONSTRUCTION': None, u'PROJECT_SIZE': None, u'ADDRESS_CITY': u'Malleray', u'PROJECT_PARCELID': u'117', u'DETAIL_SOLAR': False, u'PROJECT_ID': u'114BX576418', u'ADDRESS_COUNTRY': u'CH', u'DATE_UPDATE': u'2019-05-15T13:09:46.353+01:00', u'PROJECT_TITLE': u'Transformation et r\\xe9novation des appartements', u'ADDRESS_STREET1': u'Ruai 3, 3A', u'DATE_PUBLICATION': u'2019-05-15T13:09:46.31+01:00', u'PROJECT_INRESEARCH': False, u'ADDRESS_STREET2': None, u'DETAIL_ROOFTYPE': None, u'DETAIL_CLADDING': None, u'PROJECT_LANGUAGE': u'FR', u'PROJECT_VALUE': 0, u'PROJECT_APARTMENTS': None, u'PROJECT_BUILDINGS': None, u'ADDRESS_CANTON': u'BE', u'DETAIL_MATERIALS': None, u'PROJECT_VOLUME': None, u'DATE_INSERTION': u'2019-05-15T13:00:51.31+01:00', u'PROJECT_NOTE': None, u'ADDRESS_COUNTY': u'District de Moutier', u'PROJECT_PLANNINGSTAGE': u'Baugesuch eingereicht', u'PROJECT_FLOORS': None, u'DATE_PLANNINGAPPROVAL': None, u'ADDRESS_STREET3': None, u'PROJECT_FINALUSE': None}\n",
      "{u'DETAIL_HEATING': None, u'PROJECT_DESCRIPTION': u'Umnutzung Wagenschopf mit Erweiterung zu Offenstall f\\xfcr Pferde, Neubau Reitplatz, Stallrationalisierung Rindvieh', u'ADDRESS_POSTALCODE': 3437, u'DATE_STARTCONSTRUCTION': None, u'PROJECT_SIZE': None, u'ADDRESS_CITY': u'R\\xfcderswil', u'PROJECT_PARCELID': u'618', u'DETAIL_SOLAR': False, u'PROJECT_ID': u'114BX283593', u'ADDRESS_COUNTRY': u'CH', u'DATE_UPDATE': u'2019-05-15T13:13:14.593+01:00', u'PROJECT_TITLE': u'Umnutzung Wagenschopf mit Erweiterung', u'ADDRESS_STREET1': u'Schnetzenschachen 219', u'DATE_PUBLICATION': u'2017-03-30T09:30:01.947+01:00', u'PROJECT_INRESEARCH': False, u'ADDRESS_STREET2': None, u'DETAIL_ROOFTYPE': None, u'DETAIL_CLADDING': None, u'PROJECT_LANGUAGE': u'DE', u'PROJECT_VALUE': 0, u'PROJECT_APARTMENTS': None, u'PROJECT_BUILDINGS': None, u'ADDRESS_CANTON': u'BE', u'DETAIL_MATERIALS': None, u'PROJECT_VOLUME': None, u'DATE_INSERTION': u'2017-03-30T09:23:46.237+01:00', u'PROJECT_NOTE': None, u'ADDRESS_COUNTY': u'Amtsbezirk Signau', u'PROJECT_PLANNINGSTAGE': u'Baugesuch eingereicht', u'PROJECT_FLOORS': None, u'DATE_PLANNINGAPPROVAL': None, u'ADDRESS_STREET3': None, u'PROJECT_FINALUSE': None}\n",
      "{u'DETAIL_HEATING': None, u'PROJECT_DESCRIPTION': u'Sanierung Mehrfamilienhaus mit Einbau einer neuen Wohnung, Abbruch bestehende Nebenbauten, Neubau Heizung und Autounterstand', u'ADDRESS_POSTALCODE': 3432, u'DATE_STARTCONSTRUCTION': None, u'PROJECT_SIZE': None, u'ADDRESS_CITY': u'L\\xfctzelfl\\xfch-Goldbach', u'PROJECT_PARCELID': u'29', u'DETAIL_SOLAR': False, u'PROJECT_ID': u'114BX298948', u'ADDRESS_COUNTRY': u'CH', u'DATE_UPDATE': u'2019-05-15T13:13:14.593+01:00', u'PROJECT_TITLE': u'Sanierung Mehrfamilienhaus mit Einbau Wohnung', u'ADDRESS_STREET1': u'Berneiweg 5', u'DATE_PUBLICATION': u'2017-05-05T13:20:08.98+01:00', u'PROJECT_INRESEARCH': False, u'ADDRESS_STREET2': None, u'DETAIL_ROOFTYPE': None, u'DETAIL_CLADDING': None, u'PROJECT_LANGUAGE': u'DE', u'PROJECT_VALUE': 0, u'PROJECT_APARTMENTS': None, u'PROJECT_BUILDINGS': None, u'ADDRESS_CANTON': u'BE', u'DETAIL_MATERIALS': None, u'PROJECT_VOLUME': None, u'DATE_INSERTION': u'2017-05-05T13:17:18.68+01:00', u'PROJECT_NOTE': None, u'ADDRESS_COUNTY': u'Amtsbezirk Trachselwald', u'PROJECT_PLANNINGSTAGE': u'Baugesuch eingereicht', u'PROJECT_FLOORS': None, u'DATE_PLANNINGAPPROVAL': None, u'ADDRESS_STREET3': None, u'PROJECT_FINALUSE': None}\n",
      "{u'DETAIL_HEATING': None, u'PROJECT_DESCRIPTION': u'Energetische Sanierung der Betriebsleiterwohnung, Einbau G\\xe4stezimmer, Einbau St\\xfcckholzheizung unter Einfahrt, Erstellen Hartplatz f\\xfcr Jungvieh-Aussenpl\\xe4tze, \\xdcberdecken des Jauchesilos mit einer Betondecke', u'ADDRESS_POSTALCODE': 3465, u'DATE_STARTCONSTRUCTION': None, u'PROJECT_SIZE': None, u'ADDRESS_CITY': u'D\\xfcrrenroth', u'PROJECT_PARCELID': u'516', u'DETAIL_SOLAR': False, u'PROJECT_ID': u'114BX388377', u'ADDRESS_COUNTRY': u'CH', u'DATE_UPDATE': u'2019-05-15T13:13:14.593+01:00', u'PROJECT_TITLE': u'Energetische Sanierung der Betriebsleiterwohnung', u'ADDRESS_STREET1': u'Wolferdinge 46', u'DATE_PUBLICATION': u'2018-01-12T07:33:59.4+00:00', u'PROJECT_INRESEARCH': False, u'ADDRESS_STREET2': None, u'DETAIL_ROOFTYPE': None, u'DETAIL_CLADDING': None, u'PROJECT_LANGUAGE': u'DE', u'PROJECT_VALUE': 0, u'PROJECT_APARTMENTS': None, u'PROJECT_BUILDINGS': None, u'ADDRESS_CANTON': u'BE', u'DETAIL_MATERIALS': None, u'PROJECT_VOLUME': None, u'DATE_INSERTION': u'2018-01-11T13:23:44.673+00:00', u'PROJECT_NOTE': None, u'ADDRESS_COUNTY': u'Amtsbezirk Trachselwald', u'PROJECT_PLANNINGSTAGE': u'Baugesuch eingereicht', u'PROJECT_FLOORS': None, u'DATE_PLANNINGAPPROVAL': None, u'ADDRESS_STREET3': None, u'PROJECT_FINALUSE': None}\n",
      "{u'DETAIL_HEATING': None, u'PROJECT_DESCRIPTION': u'Neubau Einstellraum als Anbau an Nebengeb\\xe4ude Nr. 195a mit Einstellraum im Erdgeschoss und Holzlager im Obergeschoss. Bestehender Feldweg mit Teerbelag versehen (als Zufahrt f\\xfcr neuen Einstellraum)', u'ADDRESS_POSTALCODE': 3543, u'DATE_STARTCONSTRUCTION': None, u'PROJECT_SIZE': None, u'ADDRESS_CITY': u'Emmenmatt', u'PROJECT_PARCELID': u'563', u'DETAIL_SOLAR': False, u'PROJECT_ID': u'114BX393362', u'ADDRESS_COUNTRY': u'CH', u'DATE_UPDATE': u'2019-05-15T13:13:14.593+01:00', u'PROJECT_TITLE': u'Neubau Einstellraum als Anbau an Nebengeb\\xe4ude', u'ADDRESS_STREET1': u'Buchsestalden 195a', u'DATE_PUBLICATION': u'2018-01-25T12:49:52.11+00:00', u'PROJECT_INRESEARCH': False, u'ADDRESS_STREET2': None, u'DETAIL_ROOFTYPE': None, u'DETAIL_CLADDING': None, u'PROJECT_LANGUAGE': u'DE', u'PROJECT_VALUE': 0, u'PROJECT_APARTMENTS': None, u'PROJECT_BUILDINGS': None, u'ADDRESS_CANTON': u'BE', u'DETAIL_MATERIALS': None, u'PROJECT_VOLUME': None, u'DATE_INSERTION': u'2018-01-25T12:47:14.887+00:00', u'PROJECT_NOTE': None, u'ADDRESS_COUNTY': u'Amtsbezirk Signau', u'PROJECT_PLANNINGSTAGE': u'Baugesuch eingereicht', u'PROJECT_FLOORS': None, u'DATE_PLANNINGAPPROVAL': None, u'ADDRESS_STREET3': None, u'PROJECT_FINALUSE': None}\n",
      "{u'DETAIL_HEATING': None, u'PROJECT_DESCRIPTION': u'Umbau Einfamilienhaus zu Zweifamilienhaus', u'ADDRESS_POSTALCODE': 3462, u'DATE_STARTCONSTRUCTION': None, u'PROJECT_SIZE': None, u'ADDRESS_CITY': u'Weier im Emmental', u'PROJECT_PARCELID': u'587', u'DETAIL_SOLAR': False, u'PROJECT_ID': u'114BX446299', u'ADDRESS_COUNTRY': u'CH', u'DATE_UPDATE': u'2019-05-15T13:13:14.593+01:00', u'PROJECT_TITLE': u'Umbau Einfamilienhaus zu Zweifamilienhaus', u'ADDRESS_STREET1': u'Oeschenweid 1', u'DATE_PUBLICATION': u'2018-06-07T12:36:15.247+01:00', u'PROJECT_INRESEARCH': False, u'ADDRESS_STREET2': None, u'DETAIL_ROOFTYPE': None, u'DETAIL_CLADDING': None, u'PROJECT_LANGUAGE': u'DE', u'PROJECT_VALUE': 0, u'PROJECT_APARTMENTS': None, u'PROJECT_BUILDINGS': None, u'ADDRESS_CANTON': u'BE', u'DETAIL_MATERIALS': None, u'PROJECT_VOLUME': None, u'DATE_INSERTION': u'2018-06-07T12:33:03.287+01:00', u'PROJECT_NOTE': None, u'ADDRESS_COUNTY': u'Amtsbezirk Trachselwald', u'PROJECT_PLANNINGSTAGE': u'Baugesuch eingereicht', u'PROJECT_FLOORS': None, u'DATE_PLANNINGAPPROVAL': None, u'ADDRESS_STREET3': None, u'PROJECT_FINALUSE': None}\n",
      "{u'DETAIL_HEATING': None, u'PROJECT_DESCRIPTION': u'Sanierung und Anbau Ober- und Dachgeschoss, Erstellen Besucherparkplatz und Versickerungsanlage', u'ADDRESS_POSTALCODE': 3437, u'DATE_STARTCONSTRUCTION': None, u'PROJECT_SIZE': None, u'ADDRESS_CITY': u'R\\xfcderswil', u'PROJECT_PARCELID': u'1139', u'DETAIL_SOLAR': False, u'PROJECT_ID': u'114BX452812', u'ADDRESS_COUNTRY': u'CH', u'DATE_UPDATE': u'2019-05-15T13:13:14.593+01:00', u'PROJECT_TITLE': u'Sanierung und Anbau Ober- und Dachgeschoss', u'ADDRESS_STREET1': u'Seilergasse 25', u'DATE_PUBLICATION': u'2018-06-21T09:52:20.11+01:00', u'PROJECT_INRESEARCH': False, u'ADDRESS_STREET2': None, u'DETAIL_ROOFTYPE': None, u'DETAIL_CLADDING': None, u'PROJECT_LANGUAGE': u'DE', u'PROJECT_VALUE': 0, u'PROJECT_APARTMENTS': None, u'PROJECT_BUILDINGS': None, u'ADDRESS_CANTON': u'BE', u'DETAIL_MATERIALS': None, u'PROJECT_VOLUME': None, u'DATE_INSERTION': u'2018-06-21T09:45:11.24+01:00', u'PROJECT_NOTE': None, u'ADDRESS_COUNTY': u'Amtsbezirk Signau', u'PROJECT_PLANNINGSTAGE': u'Baugesuch eingereicht', u'PROJECT_FLOORS': None, u'DATE_PLANNINGAPPROVAL': None, u'ADDRESS_STREET3': None, u'PROJECT_FINALUSE': None}\n",
      "{u'DETAIL_HEATING': None, u'PROJECT_DESCRIPTION': u'Abbruch der Geb\\xe4ude Nrn. 800 und 800a sowie R\\xfcckbau der Wegstrasse', u'ADDRESS_POSTALCODE': 3550, u'DATE_STARTCONSTRUCTION': None, u'PROJECT_SIZE': None, u'ADDRESS_CITY': u'Langnau i. E.', u'PROJECT_PARCELID': u'1368', u'DETAIL_SOLAR': False, u'PROJECT_ID': u'114BX465284', u'ADDRESS_COUNTRY': u'CH', u'DATE_UPDATE': u'2019-05-15T13:13:14.593+01:00', u'PROJECT_TITLE': u'Abbruch der Geb\\xe4ude Nrn. 800 und 800a', u'ADDRESS_STREET1': u'Sch\\xe4rischachen 800, 800a', u'DATE_PUBLICATION': u'2018-07-19T10:11:54.35+01:00', u'PROJECT_INRESEARCH': False, u'ADDRESS_STREET2': None, u'DETAIL_ROOFTYPE': None, u'DETAIL_CLADDING': None, u'PROJECT_LANGUAGE': u'DE', u'PROJECT_VALUE': 0, u'PROJECT_APARTMENTS': None, u'PROJECT_BUILDINGS': None, u'ADDRESS_CANTON': u'BE', u'DETAIL_MATERIALS': None, u'PROJECT_VOLUME': None, u'DATE_INSERTION': u'2018-07-19T10:09:26.877+01:00', u'PROJECT_NOTE': u'Bauherrschaft: Erbengemeinschaft Reber Ernst', u'ADDRESS_COUNTY': u'Amtsbezirk Signau', u'PROJECT_PLANNINGSTAGE': u'Baugesuch eingereicht', u'PROJECT_FLOORS': None, u'DATE_PLANNINGAPPROVAL': None, u'ADDRESS_STREET3': None, u'PROJECT_FINALUSE': None}\n",
      "{u'DETAIL_HEATING': u'Holzschnitzel', u'PROJECT_DESCRIPTION': u'Abbruch Speicher und Neubau Remisierungsraum und Holzschnitzelheizung mit Schnitzellager', u'ADDRESS_POSTALCODE': 3432, u'DATE_STARTCONSTRUCTION': None, u'PROJECT_SIZE': None, u'ADDRESS_CITY': u'L\\xfctzelfl\\xfch-Goldbach', u'PROJECT_PARCELID': u'25', u'DETAIL_SOLAR': False, u'PROJECT_ID': u'114BX559748', u'ADDRESS_COUNTRY': u'CH', u'DATE_UPDATE': u'2019-05-15T13:13:14.593+01:00', u'PROJECT_TITLE': u'Neubau Remisierungsraum und Holzschnitzelheizung', u'ADDRESS_STREET1': u'Ober-Bolzisberg 127C', u'DATE_PUBLICATION': u'2019-04-08T09:04:00.61+01:00', u'PROJECT_INRESEARCH': False, u'ADDRESS_STREET2': None, u'DETAIL_ROOFTYPE': None, u'DETAIL_CLADDING': None, u'PROJECT_LANGUAGE': u'DE', u'PROJECT_VALUE': 0, u'PROJECT_APARTMENTS': None, u'PROJECT_BUILDINGS': None, u'ADDRESS_CANTON': u'BE', u'DETAIL_MATERIALS': None, u'PROJECT_VOLUME': None, u'DATE_INSERTION': u'2019-04-08T09:02:35.51+01:00', u'PROJECT_NOTE': None, u'ADDRESS_COUNTY': u'Amtsbezirk Trachselwald', u'PROJECT_PLANNINGSTAGE': u'Baugesuch eingereicht', u'PROJECT_FLOORS': None, u'DATE_PLANNINGAPPROVAL': None, u'ADDRESS_STREET3': None, u'PROJECT_FINALUSE': None}\n",
      "{u'DETAIL_HEATING': u'W\\xe4rmepumpe', u'PROJECT_DESCRIPTION': u'Sanierung Mehrfamilienhaus, Teilabbruch Schopf und erg\\xe4nzter Wiederaufbau als Autounterstand, Erneuerung Hartplatz', u'ADDRESS_POSTALCODE': 3436, u'DATE_STARTCONSTRUCTION': None, u'PROJECT_SIZE': None, u'ADDRESS_CITY': u'Zollbr\\xfcck', u'PROJECT_PARCELID': u'1098', u'DETAIL_SOLAR': False, u'PROJECT_ID': u'131BX13938', u'ADDRESS_COUNTRY': u'CH', u'DATE_UPDATE': u'2019-05-15T13:13:14.593+01:00', u'PROJECT_TITLE': u'Sanierung Mehrfamilienhaus', u'ADDRESS_STREET1': u'Inseliweg 18', u'DATE_PUBLICATION': u'2017-04-06T12:42:50+01:00', u'PROJECT_INRESEARCH': False, u'ADDRESS_STREET2': None, u'DETAIL_ROOFTYPE': None, u'DETAIL_CLADDING': None, u'PROJECT_LANGUAGE': u'DE', u'PROJECT_VALUE': 742000.0, u'PROJECT_APARTMENTS': None, u'PROJECT_BUILDINGS': 1.0, u'ADDRESS_CANTON': u'BE', u'DETAIL_MATERIALS': None, u'PROJECT_VOLUME': None, u'DATE_INSERTION': u'2017-04-06T12:35:51.717+01:00', u'PROJECT_NOTE': u'Publiziert in Lauperswil', u'ADDRESS_COUNTY': u'Amtsbezirk Signau', u'PROJECT_PLANNINGSTAGE': u'Baugesuch eingereicht', u'PROJECT_FLOORS': None, u'DATE_PLANNINGAPPROVAL': None, u'ADDRESS_STREET3': None, u'PROJECT_FINALUSE': None}\n",
      "{u'DETAIL_HEATING': None, u'PROJECT_DESCRIPTION': u'Umnutzung Lauterburgareal und Neubau G\\xe4rtnerei mit Nebenr\\xe4umen und Lagerfl\\xe4chen, R\\xfcckbau Geb\\xe4ude Nr. 58e sowie diverser Anbauten zur Freilegung Geb\\xe4ude Nr. 58 und Geb. Nr. 58b, Einbau Verkaufsr\\xe4ume und Bistro inklusive Nebenr\\xe4umen im Erd- und Obergeschoss, Sanit\\xe4rr\\xe4ume zu bestehendem Werkstatt im Erdgeschoss und Grossraumb\\xfcro im Obergeschoss, Umnutzung Geb\\xe4ude Nr. 60 zu Mehrzweckraum im Erdgeschoss, Medizinische- und Paramedizinische Nutzung im Obergeschoss und betreutem Wohnen im Dachgeschoss, Umnutzung Geb\\xe4ude Nr. 58b zu Sanit\\xe4r- und Abstellraum im Erdgeschoss und Ausstellung im Obergeschoss. Neugestaltung industriell urbane Umgebung mit Erstellung von drei Sickeranlagen, Neubau Grundst\\xfccksentw\\xe4sserung im Trennsystem', u'ADDRESS_POSTALCODE': 3552, u'DATE_STARTCONSTRUCTION': None, u'PROJECT_SIZE': None, u'ADDRESS_CITY': u'B\\xe4rau', u'PROJECT_PARCELID': u'882, 1492, 3844, 4016, BR2738', u'DETAIL_SOLAR': False, u'PROJECT_ID': u'131BX14996', u'ADDRESS_COUNTRY': u'CH', u'DATE_UPDATE': u'2019-05-15T13:13:14.593+01:00', u'PROJECT_TITLE': u'Umnutzung Lauterburgareal', u'ADDRESS_STREET1': u'B\\xe4raustrasse 58, 60', u'DATE_PUBLICATION': u'2017-07-06T08:08:07+01:00', u'PROJECT_INRESEARCH': False, u'ADDRESS_STREET2': None, u'DETAIL_ROOFTYPE': None, u'DETAIL_CLADDING': None, u'PROJECT_LANGUAGE': u'DE', u'PROJECT_VALUE': 14462000.0, u'PROJECT_APARTMENTS': None, u'PROJECT_BUILDINGS': 4.0, u'ADDRESS_CANTON': u'BE', u'DETAIL_MATERIALS': None, u'PROJECT_VOLUME': None, u'DATE_INSERTION': u'2017-07-06T08:04:51.34+01:00', u'PROJECT_NOTE': None, u'ADDRESS_COUNTY': u'Amtsbezirk Signau', u'PROJECT_PLANNINGSTAGE': u'Baubewilligung erteilt', u'PROJECT_FLOORS': None, u'DATE_PLANNINGAPPROVAL': u'2017-12-21T15:04:32.9+00:00', u'ADDRESS_STREET3': None, u'PROJECT_FINALUSE': None}\n",
      "{u'DETAIL_HEATING': u'W\\xe4rmepumpe', u'PROJECT_DESCRIPTION': u'Neubau einer Produktionshalle f\\xfcr Metallverarbeitung', u'ADDRESS_POSTALCODE': 3552, u'DATE_STARTCONSTRUCTION': None, u'PROJECT_SIZE': None, u'ADDRESS_CITY': u'B\\xe4rau', u'PROJECT_PARCELID': u'4183', u'DETAIL_SOLAR': False, u'PROJECT_ID': u'160BX1723', u'ADDRESS_COUNTRY': u'CH', u'DATE_UPDATE': u'2019-05-15T13:13:14.593+01:00', u'PROJECT_TITLE': u'Neubau einer Produktionshalle', u'ADDRESS_STREET1': u'Sch\\xe4rischachen 809d', u'DATE_PUBLICATION': u'2018-02-15T10:05:59+00:00', u'PROJECT_INRESEARCH': False, u'ADDRESS_STREET2': None, u'DETAIL_ROOFTYPE': u'Steildach', u'DETAIL_CLADDING': u'Andere Konst. / Kombinationen', u'PROJECT_LANGUAGE': u'DE', u'PROJECT_VALUE': 1840000.0, u'PROJECT_APARTMENTS': None, u'PROJECT_BUILDINGS': 1.0, u'ADDRESS_CANTON': u'BE', u'DETAIL_MATERIALS': u'Stahlbau', u'PROJECT_VOLUME': 9333.0, u'DATE_INSERTION': u'2018-02-15T10:03:52.47+00:00', u'PROJECT_NOTE': u'Fassade: Sandwichpaneele', u'ADDRESS_COUNTY': u'Amtsbezirk Signau', u'PROJECT_PLANNINGSTAGE': u'Baugesuch eingereicht', u'PROJECT_FLOORS': None, u'DATE_PLANNINGAPPROVAL': None, u'ADDRESS_STREET3': None, u'PROJECT_FINALUSE': None}\n",
      "{u'DETAIL_HEATING': None, u'PROJECT_DESCRIPTION': u'Umbau K\\xe4serei in Mehrfamilienhaus und Neubau Autounterstand', u'ADDRESS_POSTALCODE': 3550, u'DATE_STARTCONSTRUCTION': None, u'PROJECT_SIZE': None, u'ADDRESS_CITY': u'Langnau i. E.', u'PROJECT_PARCELID': u'2816', u'DETAIL_SOLAR': False, u'PROJECT_ID': u'177BX942', u'ADDRESS_COUNTRY': u'CH', u'DATE_UPDATE': u'2019-05-15T13:13:14.593+01:00', u'PROJECT_TITLE': u'Umbau K\\xe4serei in Mehrfamilienhaus', u'ADDRESS_STREET1': u'Kammershaus 911B', u'DATE_PUBLICATION': u'2019-05-15T13:10:38.743+01:00', u'PROJECT_INRESEARCH': True, u'ADDRESS_STREET2': None, u'DETAIL_ROOFTYPE': None, u'DETAIL_CLADDING': None, u'PROJECT_LANGUAGE': u'DE', u'PROJECT_VALUE': 0, u'PROJECT_APARTMENTS': None, u'PROJECT_BUILDINGS': None, u'ADDRESS_CANTON': u'BE', u'DETAIL_MATERIALS': None, u'PROJECT_VOLUME': None, u'DATE_INSERTION': u'2019-05-15T13:05:09.067+01:00', u'PROJECT_NOTE': None, u'ADDRESS_COUNTY': u'Amtsbezirk Signau', u'PROJECT_PLANNINGSTAGE': u'Baugesuch eingereicht', u'PROJECT_FLOORS': None, u'DATE_PLANNINGAPPROVAL': None, u'ADDRESS_STREET3': None, u'PROJECT_FINALUSE': None}\n",
      "{u'DETAIL_HEATING': u'W\\xe4rmepumpe', u'PROJECT_DESCRIPTION': u\"Construction d'une maison familiale sur deux niveaux avec garage en sous-sol\", u'ADDRESS_POSTALCODE': 2745, u'DATE_STARTCONSTRUCTION': None, u'PROJECT_SIZE': 269.0, u'ADDRESS_CITY': u'Grandval', u'PROJECT_PARCELID': u'1055', u'DETAIL_SOLAR': False, u'PROJECT_ID': u'70BX131244', u'ADDRESS_COUNTRY': u'CH', u'DATE_UPDATE': u'2019-05-15T13:15:07.06+01:00', u'PROJECT_TITLE': u\"Construction d'une maison familiale avec garage\", u'ADDRESS_STREET1': u'rue de la Gare', u'DATE_PUBLICATION': u'2019-05-15T12:07:23+01:00', u'PROJECT_INRESEARCH': False, u'ADDRESS_STREET2': None, u'DETAIL_ROOFTYPE': u'Steildach', u'DETAIL_CLADDING': u'Aussend\\xe4mmung verputzt', u'PROJECT_LANGUAGE': u'FR', u'PROJECT_VALUE': 721565.0, u'PROJECT_APARTMENTS': 1.0, u'PROJECT_BUILDINGS': 1.0, u'ADDRESS_CANTON': u'BE', u'DETAIL_MATERIALS': u'Backstein / Ziegel', u'PROJECT_VOLUME': 1105.0, u'DATE_INSERTION': u'2019-05-15T11:54:18.387+01:00', u'PROJECT_NOTE': None, u'ADDRESS_COUNTY': u'District de Moutier', u'PROJECT_PLANNINGSTAGE': u'Baugesuch eingereicht', u'PROJECT_FLOORS': 3.0, u'DATE_PLANNINGAPPROVAL': None, u'ADDRESS_STREET3': None, u'PROJECT_FINALUSE': u'Eigentum'}\n",
      "{u'DETAIL_HEATING': u'W\\xe4rmepumpe', u'PROJECT_DESCRIPTION': u'Construction d\\u2019une maison familiale, installation d\\u2019une PAC air-eau ext\\xe9rieure', u'ADDRESS_POSTALCODE': 1724, u'DATE_STARTCONSTRUCTION': None, u'PROJECT_SIZE': None, u'ADDRESS_CITY': u'Le Mouret', u'PROJECT_PARCELID': u'659', u'DETAIL_SOLAR': False, u'PROJECT_ID': u'70BX131184', u'ADDRESS_COUNTRY': u'CH', u'DATE_UPDATE': u'2019-05-15T13:19:00.46+01:00', u'PROJECT_TITLE': u'Construction d\\u2019une maison familiale', u'ADDRESS_STREET1': u'route du Village 105', u'DATE_PUBLICATION': u'2019-05-13T12:55:15+01:00', u'PROJECT_INRESEARCH': False, u'ADDRESS_STREET2': None, u'DETAIL_ROOFTYPE': u'Flachdach', u'DETAIL_CLADDING': u'Aussend\\xe4mmung verputzt', u'PROJECT_LANGUAGE': u'FR', u'PROJECT_VALUE': 965000.0, u'PROJECT_APARTMENTS': 1.0, u'PROJECT_BUILDINGS': 1.0, u'ADDRESS_CANTON': u'FR', u'DETAIL_MATERIALS': u'Backstein / Ziegel', u'PROJECT_VOLUME': 1560.0, u'DATE_INSERTION': u'2019-05-13T12:53:24.417+01:00', u'PROJECT_NOTE': None, u'ADDRESS_COUNTY': u'District de la Sarine', u'PROJECT_PLANNINGSTAGE': u'Baugesuch eingereicht', u'PROJECT_FLOORS': 2.0, u'DATE_PLANNINGAPPROVAL': None, u'ADDRESS_STREET3': None, u'PROJECT_FINALUSE': u'Eigentum'}\n",
      "{u'DETAIL_HEATING': None, u'PROJECT_DESCRIPTION': u\"Cr\\xe9ation de d\\xe9p\\xf4ts de jardin et d'un jardin d'eau provisoires\", u'ADDRESS_POSTALCODE': 1227, u'DATE_STARTCONSTRUCTION': None, u'PROJECT_SIZE': None, u'ADDRESS_CITY': u'Carouge GE', u'PROJECT_PARCELID': u'1561, 1563, 1726, 1727, 1729, 1730, 1786', u'DETAIL_SOLAR': False, u'PROJECT_ID': u'114BX576368', u'ADDRESS_COUNTRY': u'CH', u'DATE_UPDATE': u'2019-05-15T12:14:56.677+01:00', u'PROJECT_TITLE': u'Cr\\xe9ation de d\\xe9p\\xf4ts de jardin', u'ADDRESS_STREET1': u'avenue Cardinal-Mermillod 13, 15', u'DATE_PUBLICATION': u'2019-05-15T12:14:56.673+01:00', u'PROJECT_INRESEARCH': False, u'ADDRESS_STREET2': None, u'DETAIL_ROOFTYPE': None, u'DETAIL_CLADDING': None, u'PROJECT_LANGUAGE': u'FR', u'PROJECT_VALUE': 0, u'PROJECT_APARTMENTS': None, u'PROJECT_BUILDINGS': None, u'ADDRESS_CANTON': u'GE', u'DETAIL_MATERIALS': None, u'PROJECT_VOLUME': None, u'DATE_INSERTION': u'2019-05-15T12:07:07.21+01:00', u'PROJECT_NOTE': None, u'ADDRESS_COUNTY': u'Canton de Gen\\xe8ve', u'PROJECT_PLANNINGSTAGE': u'Baubewilligung erteilt', u'PROJECT_FLOORS': None, u'DATE_PLANNINGAPPROVAL': u'2019-05-15T12:14:56.667+01:00', u'ADDRESS_STREET3': None, u'PROJECT_FINALUSE': None}\n",
      "{u'DETAIL_HEATING': None, u'PROJECT_DESCRIPTION': u\"R\\xe9novation d'un appartement au 4\\xe8me \\xe9tage\", u'ADDRESS_POSTALCODE': 1219, u'DATE_STARTCONSTRUCTION': None, u'PROJECT_SIZE': None, u'ADDRESS_CITY': u'Ch\\xe2telaine', u'PROJECT_PARCELID': u'2580', u'DETAIL_SOLAR': False, u'PROJECT_ID': u'114BX576360', u'ADDRESS_COUNTRY': u'CH', u'DATE_UPDATE': u'2019-05-15T12:00:35.757+01:00', u'PROJECT_TITLE': u\"R\\xe9novation d'un appartement au 4\\xe8me \\xe9tage\", u'ADDRESS_STREET1': u'chemin De-Maisonneuve 12C', u'DATE_PUBLICATION': u'2019-05-15T12:00:32.733+01:00', u'PROJECT_INRESEARCH': False, u'ADDRESS_STREET2': None, u'DETAIL_ROOFTYPE': None, u'DETAIL_CLADDING': None, u'PROJECT_LANGUAGE': u'FR', u'PROJECT_VALUE': 0, u'PROJECT_APARTMENTS': 1.0, u'PROJECT_BUILDINGS': None, u'ADDRESS_CANTON': u'GE', u'DETAIL_MATERIALS': None, u'PROJECT_VOLUME': None, u'DATE_INSERTION': u'2019-05-15T11:59:33.923+01:00', u'PROJECT_NOTE': None, u'ADDRESS_COUNTY': u'Canton de Gen\\xe8ve', u'PROJECT_PLANNINGSTAGE': u'Baubewilligung erteilt', u'PROJECT_FLOORS': None, u'DATE_PLANNINGAPPROVAL': u'2019-05-15T12:00:02.507+01:00', u'ADDRESS_STREET3': None, u'PROJECT_FINALUSE': None}\n",
      "{u'DETAIL_HEATING': None, u'PROJECT_DESCRIPTION': u\"R\\xe9novation d'un appartement au 7\\xe8me \\xe9tage\", u'ADDRESS_POSTALCODE': 1207, u'DATE_STARTCONSTRUCTION': None, u'PROJECT_SIZE': None, u'ADDRESS_CITY': u'Gen\\xe8ve', u'PROJECT_PARCELID': u'2491', u'DETAIL_SOLAR': False, u'PROJECT_ID': u'114BX576362', u'ADDRESS_COUNTRY': u'CH', u'DATE_UPDATE': u'2019-05-15T12:02:40.74+01:00', u'PROJECT_TITLE': u\"R\\xe9novation d'un appartement au 7\\xe8me \\xe9tage\", u'ADDRESS_STREET1': u'rue de la Terrassi\\xe8re 29', u'DATE_PUBLICATION': u'2019-05-15T12:02:40.697+01:00', u'PROJECT_INRESEARCH': False, u'ADDRESS_STREET2': None, u'DETAIL_ROOFTYPE': None, u'DETAIL_CLADDING': None, u'PROJECT_LANGUAGE': u'FR', u'PROJECT_VALUE': 0, u'PROJECT_APARTMENTS': 1.0, u'PROJECT_BUILDINGS': None, u'ADDRESS_CANTON': u'GE', u'DETAIL_MATERIALS': None, u'PROJECT_VOLUME': None, u'DATE_INSERTION': u'2019-05-15T12:01:59.777+01:00', u'PROJECT_NOTE': None, u'ADDRESS_COUNTY': u'Canton de Gen\\xe8ve', u'PROJECT_PLANNINGSTAGE': u'Baubewilligung erteilt', u'PROJECT_FLOORS': None, u'DATE_PLANNINGAPPROVAL': u'2019-05-15T12:02:40.69+01:00', u'ADDRESS_STREET3': None, u'PROJECT_FINALUSE': None}\n",
      "{u'DETAIL_HEATING': None, u'PROJECT_DESCRIPTION': u'Umbau und Aufstockung Mehrfamilienhaus', u'ADDRESS_POSTALCODE': 6260, u'DATE_STARTCONSTRUCTION': None, u'PROJECT_SIZE': None, u'ADDRESS_CITY': u'Reiden', u'PROJECT_PARCELID': u'456', u'DETAIL_SOLAR': False, u'PROJECT_ID': u'138BX14805', u'ADDRESS_COUNTRY': u'CH', u'DATE_UPDATE': u'2019-05-15T12:34:47.857+01:00', u'PROJECT_TITLE': u'Umbau und Aufstockung Mehrfamilienhaus', u'ADDRESS_STREET1': u'Hauptstrasse 17', u'DATE_PUBLICATION': u'2019-05-15T12:34:47.853+01:00', u'PROJECT_INRESEARCH': True, u'ADDRESS_STREET2': None, u'DETAIL_ROOFTYPE': None, u'DETAIL_CLADDING': u'unbestimmt', u'PROJECT_LANGUAGE': u'DE', u'PROJECT_VALUE': 0, u'PROJECT_APARTMENTS': None, u'PROJECT_BUILDINGS': None, u'ADDRESS_CANTON': u'LU', u'DETAIL_MATERIALS': None, u'PROJECT_VOLUME': None, u'DATE_INSERTION': u'2019-05-15T12:29:51.943+01:00', u'PROJECT_NOTE': None, u'ADDRESS_COUNTY': u'Amt Willisau', u'PROJECT_PLANNINGSTAGE': u'Baugesuch eingereicht', u'PROJECT_FLOORS': None, u'DATE_PLANNINGAPPROVAL': None, u'ADDRESS_STREET3': None, u'PROJECT_FINALUSE': None}\n",
      "{u'DETAIL_HEATING': None, u'PROJECT_DESCRIPTION': u'Neubau Mehrfamilienhaus mit Tiefgarage und Aussenabstellpl\\xe4tzen', u'ADDRESS_POSTALCODE': 6265, u'DATE_STARTCONSTRUCTION': None, u'PROJECT_SIZE': None, u'ADDRESS_CITY': u'Roggliswil', u'PROJECT_PARCELID': u'20', u'DETAIL_SOLAR': False, u'PROJECT_ID': u'138BX14808', u'ADDRESS_COUNTRY': u'CH', u'DATE_UPDATE': u'2019-05-15T12:55:13.97+01:00', u'PROJECT_TITLE': u'Neubau Mehrfamilienhaus mit Tiefgarage', u'ADDRESS_STREET1': u'Netzelen', u'DATE_PUBLICATION': u'2019-05-15T12:55:13.967+01:00', u'PROJECT_INRESEARCH': True, u'ADDRESS_STREET2': None, u'DETAIL_ROOFTYPE': None, u'DETAIL_CLADDING': u'unbestimmt', u'PROJECT_LANGUAGE': u'DE', u'PROJECT_VALUE': 0, u'PROJECT_APARTMENTS': None, u'PROJECT_BUILDINGS': 1.0, u'ADDRESS_CANTON': u'LU', u'DETAIL_MATERIALS': None, u'PROJECT_VOLUME': None, u'DATE_INSERTION': u'2019-05-15T12:51:56.94+01:00', u'PROJECT_NOTE': None, u'ADDRESS_COUNTY': u'Amt Willisau', u'PROJECT_PLANNINGSTAGE': u'Baugesuch eingereicht', u'PROJECT_FLOORS': None, u'DATE_PLANNINGAPPROVAL': None, u'ADDRESS_STREET3': None, u'PROJECT_FINALUSE': None}\n",
      "{u'DETAIL_HEATING': None, u'PROJECT_DESCRIPTION': u'\\xc4nderung der Fenstereinteilung im Untergeschoss des Wohnhauses', u'ADDRESS_POSTALCODE': 6206, u'DATE_STARTCONSTRUCTION': None, u'PROJECT_SIZE': None, u'ADDRESS_CITY': u'Neuenkirch', u'PROJECT_PARCELID': u'1428', u'DETAIL_SOLAR': False, u'PROJECT_ID': u'114BX576376', u'ADDRESS_COUNTRY': u'CH', u'DATE_UPDATE': u'2019-05-15T12:17:50.687+01:00', u'PROJECT_TITLE': u'\\xc4nderung der Fenstereinteilung', u'ADDRESS_STREET1': u'Sonnmattstrand 9', u'DATE_PUBLICATION': u'2019-05-15T12:17:50.683+01:00', u'PROJECT_INRESEARCH': False, u'ADDRESS_STREET2': None, u'DETAIL_ROOFTYPE': None, u'DETAIL_CLADDING': u'unbestimmt', u'PROJECT_LANGUAGE': u'DE', u'PROJECT_VALUE': 0, u'PROJECT_APARTMENTS': None, u'PROJECT_BUILDINGS': None, u'ADDRESS_CANTON': u'LU', u'DETAIL_MATERIALS': None, u'PROJECT_VOLUME': None, u'DATE_INSERTION': u'2019-05-15T12:17:00.9+01:00', u'PROJECT_NOTE': None, u'ADDRESS_COUNTY': u'Amt Sursee', u'PROJECT_PLANNINGSTAGE': u'Baugesuch eingereicht', u'PROJECT_FLOORS': None, u'DATE_PLANNINGAPPROVAL': None, u'ADDRESS_STREET3': None, u'PROJECT_FINALUSE': None}\n",
      "{u'DETAIL_HEATING': None, u'PROJECT_DESCRIPTION': u'Anbau gedeckte Terrasse', u'ADDRESS_POSTALCODE': 6260, u'DATE_STARTCONSTRUCTION': None, u'PROJECT_SIZE': None, u'ADDRESS_CITY': u'Reiden', u'PROJECT_PARCELID': u'887', u'DETAIL_SOLAR': False, u'PROJECT_ID': u'114BX576398', u'ADDRESS_COUNTRY': u'CH', u'DATE_UPDATE': u'2019-05-15T12:41:39.437+01:00', u'PROJECT_TITLE': u'Anbau gedeckte Terrasse', u'ADDRESS_STREET1': u'Sertelstrasse 12', u'DATE_PUBLICATION': u'2019-05-15T12:41:39.433+01:00', u'PROJECT_INRESEARCH': False, u'ADDRESS_STREET2': None, u'DETAIL_ROOFTYPE': None, u'DETAIL_CLADDING': u'unbestimmt', u'PROJECT_LANGUAGE': u'DE', u'PROJECT_VALUE': 0, u'PROJECT_APARTMENTS': None, u'PROJECT_BUILDINGS': None, u'ADDRESS_CANTON': u'LU', u'DETAIL_MATERIALS': None, u'PROJECT_VOLUME': None, u'DATE_INSERTION': u'2019-05-15T12:40:07.713+01:00', u'PROJECT_NOTE': None, u'ADDRESS_COUNTY': u'Amt Willisau', u'PROJECT_PLANNINGSTAGE': u'Baugesuch eingereicht', u'PROJECT_FLOORS': None, u'DATE_PLANNINGAPPROVAL': None, u'ADDRESS_STREET3': None, u'PROJECT_FINALUSE': None}\n",
      "{u'DETAIL_HEATING': None, u'PROJECT_DESCRIPTION': u'Aufstockung bestehendes Einfamilienhaus, Anbau Doppelgarage und Keller', u'ADDRESS_POSTALCODE': 6265, u'DATE_STARTCONSTRUCTION': None, u'PROJECT_SIZE': None, u'ADDRESS_CITY': u'Roggliswil', u'PROJECT_PARCELID': u'343', u'DETAIL_SOLAR': False, u'PROJECT_ID': u'114BX576402', u'ADDRESS_COUNTRY': u'CH', u'DATE_UPDATE': u'2019-05-15T12:48:23.383+01:00', u'PROJECT_TITLE': u'Aufstockung bestehendes Einfamilienhaus', u'ADDRESS_STREET1': u'Winkel 21', u'DATE_PUBLICATION': u'2019-05-15T12:48:23.38+01:00', u'PROJECT_INRESEARCH': False, u'ADDRESS_STREET2': None, u'DETAIL_ROOFTYPE': None, u'DETAIL_CLADDING': u'unbestimmt', u'PROJECT_LANGUAGE': u'DE', u'PROJECT_VALUE': 0, u'PROJECT_APARTMENTS': None, u'PROJECT_BUILDINGS': None, u'ADDRESS_CANTON': u'LU', u'DETAIL_MATERIALS': None, u'PROJECT_VOLUME': None, u'DATE_INSERTION': u'2019-05-15T12:45:33.073+01:00', u'PROJECT_NOTE': None, u'ADDRESS_COUNTY': u'Amt Willisau', u'PROJECT_PLANNINGSTAGE': u'Baugesuch eingereicht', u'PROJECT_FLOORS': None, u'DATE_PLANNINGAPPROVAL': None, u'ADDRESS_STREET3': None, u'PROJECT_FINALUSE': None}\n",
      "{u'DETAIL_HEATING': None, u'PROJECT_DESCRIPTION': u'Renovation Einfamilienhaus', u'ADDRESS_POSTALCODE': 6215, u'DATE_STARTCONSTRUCTION': None, u'PROJECT_SIZE': None, u'ADDRESS_CITY': u'Berom\\xfcnster', u'PROJECT_PARCELID': u'106/401', u'DETAIL_SOLAR': False, u'PROJECT_ID': u'114BX576404', u'ADDRESS_COUNTRY': u'CH', u'DATE_UPDATE': u'2019-05-15T12:53:03.65+01:00', u'PROJECT_TITLE': u'Renovation Einfamilienhaus', u'ADDRESS_STREET1': u'G\\xe4rbigass 29', u'DATE_PUBLICATION': u'2019-05-15T12:53:03.643+01:00', u'PROJECT_INRESEARCH': False, u'ADDRESS_STREET2': None, u'DETAIL_ROOFTYPE': None, u'DETAIL_CLADDING': u'unbestimmt', u'PROJECT_LANGUAGE': u'DE', u'PROJECT_VALUE': 0, u'PROJECT_APARTMENTS': None, u'PROJECT_BUILDINGS': None, u'ADDRESS_CANTON': u'LU', u'DETAIL_MATERIALS': None, u'PROJECT_VOLUME': None, u'DATE_INSERTION': u'2019-05-15T12:49:14.72+01:00', u'PROJECT_NOTE': None, u'ADDRESS_COUNTY': u'Amt Sursee', u'PROJECT_PLANNINGSTAGE': u'Baugesuch eingereicht', u'PROJECT_FLOORS': None, u'DATE_PLANNINGAPPROVAL': None, u'ADDRESS_STREET3': None, u'PROJECT_FINALUSE': None}\n",
      "{u'DETAIL_HEATING': None, u'PROJECT_DESCRIPTION': u'Umbau Raiffeisenbank Sch\\xf6tz', u'ADDRESS_POSTALCODE': 6247, u'DATE_STARTCONSTRUCTION': None, u'PROJECT_SIZE': None, u'ADDRESS_CITY': u'Sch\\xf6tz', u'PROJECT_PARCELID': u'974', u'DETAIL_SOLAR': False, u'PROJECT_ID': u'114BX576426', u'ADDRESS_COUNTRY': u'CH', u'DATE_UPDATE': u'2019-05-15T13:11:14.233+01:00', u'PROJECT_TITLE': u'Umbau Raiffeisenbank Sch\\xf6tz', u'ADDRESS_STREET1': u'Dorfch\\xe4rn 2', u'DATE_PUBLICATION': u'2019-05-15T13:11:14.23+01:00', u'PROJECT_INRESEARCH': False, u'ADDRESS_STREET2': None, u'DETAIL_ROOFTYPE': None, u'DETAIL_CLADDING': u'unbestimmt', u'PROJECT_LANGUAGE': u'DE', u'PROJECT_VALUE': 0, u'PROJECT_APARTMENTS': None, u'PROJECT_BUILDINGS': None, u'ADDRESS_CANTON': u'LU', u'DETAIL_MATERIALS': None, u'PROJECT_VOLUME': None, u'DATE_INSERTION': u'2019-05-15T13:08:34.57+01:00', u'PROJECT_NOTE': None, u'ADDRESS_COUNTY': u'Amt Willisau', u'PROJECT_PLANNINGSTAGE': u'Baugesuch eingereicht', u'PROJECT_FLOORS': None, u'DATE_PLANNINGAPPROVAL': None, u'ADDRESS_STREET3': None, u'PROJECT_FINALUSE': None}\n",
      "{u'DETAIL_HEATING': None, u'PROJECT_DESCRIPTION': u'Umbau und Erweiterung Mehrfamilienhaus, Abbruch Garage', u'ADDRESS_POSTALCODE': 6247, u'DATE_STARTCONSTRUCTION': None, u'PROJECT_SIZE': None, u'ADDRESS_CITY': u'Sch\\xf6tz', u'PROJECT_PARCELID': u'416', u'DETAIL_SOLAR': False, u'PROJECT_ID': u'138BX14810', u'ADDRESS_COUNTRY': u'CH', u'DATE_UPDATE': u'2019-05-15T13:07:27.743+01:00', u'PROJECT_TITLE': u'Umbau und Erweiterung Mehrfamilienhaus', u'ADDRESS_STREET1': u'Wissenhusen 5', u'DATE_PUBLICATION': u'2019-05-15T13:07:27.74+01:00', u'PROJECT_INRESEARCH': True, u'ADDRESS_STREET2': None, u'DETAIL_ROOFTYPE': None, u'DETAIL_CLADDING': u'unbestimmt', u'PROJECT_LANGUAGE': u'DE', u'PROJECT_VALUE': 0, u'PROJECT_APARTMENTS': None, u'PROJECT_BUILDINGS': None, u'ADDRESS_CANTON': u'LU', u'DETAIL_MATERIALS': None, u'PROJECT_VOLUME': None, u'DATE_INSERTION': u'2019-05-15T13:04:41.8+01:00', u'PROJECT_NOTE': None, u'ADDRESS_COUNTY': u'Amt Willisau', u'PROJECT_PLANNINGSTAGE': u'Baugesuch eingereicht', u'PROJECT_FLOORS': None, u'DATE_PLANNINGAPPROVAL': None, u'ADDRESS_STREET3': None, u'PROJECT_FINALUSE': None}\n",
      "{u'DETAIL_HEATING': None, u'PROJECT_DESCRIPTION': u'Erstellung Balkonverglasung (unbeheizt) im 1. Obergeschoss', u'ADDRESS_POSTALCODE': 6023, u'DATE_STARTCONSTRUCTION': None, u'PROJECT_SIZE': None, u'ADDRESS_CITY': u'Rothenburg', u'PROJECT_PARCELID': u'1440', u'DETAIL_SOLAR': False, u'PROJECT_ID': u'114BX576422', u'ADDRESS_COUNTRY': u'CH', u'DATE_UPDATE': u'2019-05-15T13:06:38.997+01:00', u'PROJECT_TITLE': u'Erstellung Balkonverglasung', u'ADDRESS_STREET1': u'Sch\\xfctzenweidstrasse 8', u'DATE_PUBLICATION': u'2019-05-15T13:06:38.99+01:00', u'PROJECT_INRESEARCH': False, u'ADDRESS_STREET2': None, u'DETAIL_ROOFTYPE': None, u'DETAIL_CLADDING': u'unbestimmt', u'PROJECT_LANGUAGE': u'DE', u'PROJECT_VALUE': 0, u'PROJECT_APARTMENTS': None, u'PROJECT_BUILDINGS': None, u'ADDRESS_CANTON': u'LU', u'DETAIL_MATERIALS': None, u'PROJECT_VOLUME': None, u'DATE_INSERTION': u'2019-05-15T13:05:01.007+01:00', u'PROJECT_NOTE': u'Bauherrschaft: Gerhard K\\xfchnel', u'ADDRESS_COUNTY': u'Amt Hochdorf', u'PROJECT_PLANNINGSTAGE': u'Baugesuch eingereicht', u'PROJECT_FLOORS': None, u'DATE_PLANNINGAPPROVAL': None, u'ADDRESS_STREET3': None, u'PROJECT_FINALUSE': None}\n",
      "{u'DETAIL_HEATING': u'Fernw\\xe4rme', u'PROJECT_DESCRIPTION': u'Abbruch Hotel Rigi Royal und Neubau Wohngeb\\xe4ude mit Restaurant und Tiefgarage', u'ADDRESS_POSTALCODE': 6405, u'DATE_STARTCONSTRUCTION': None, u'PROJECT_SIZE': 4600.0, u'ADDRESS_CITY': u'Immensee', u'PROJECT_PARCELID': u'77, 78', u'DETAIL_SOLAR': False, u'PROJECT_ID': u'10BX199926', u'ADDRESS_COUNTRY': u'CH', u'DATE_UPDATE': u'2019-05-15T13:21:58.84+01:00', u'PROJECT_TITLE': u'Neubau Wohngeb\\xe4ude mit Restaurant und Tiefgarage', u'ADDRESS_STREET1': u'Dorfplatz 2a, b, c, d', u'DATE_PUBLICATION': u'2018-08-17T10:09:26+01:00', u'PROJECT_INRESEARCH': False, u'ADDRESS_STREET2': None, u'DETAIL_ROOFTYPE': u'Steildach', u'DETAIL_CLADDING': u'Aussend\\xe4mmung verputzt', u'PROJECT_LANGUAGE': u'DE', u'PROJECT_VALUE': 13000000.0, u'PROJECT_APARTMENTS': 15.0, u'PROJECT_BUILDINGS': 2.0, u'ADDRESS_CANTON': u'SZ', u'DETAIL_MATERIALS': u'Backstein / Ziegel verputzt', u'PROJECT_VOLUME': None, u'DATE_INSERTION': u'2018-08-17T10:05:12.907+01:00', u'PROJECT_NOTE': u'Publiziert in K\\xfcssnacht', u'ADDRESS_COUNTY': u'Bezirk K\\xfcssnacht (SZ)', u'PROJECT_PLANNINGSTAGE': u'Baugesuch eingereicht', u'PROJECT_FLOORS': 4.0, u'DATE_PLANNINGAPPROVAL': None, u'ADDRESS_STREET3': None, u'PROJECT_FINALUSE': u'Eigentum'}\n",
      "{u'DETAIL_HEATING': None, u'PROJECT_DESCRIPTION': u'Mehrfamilienhaus', u'ADDRESS_POSTALCODE': 6415, u'DATE_STARTCONSTRUCTION': None, u'PROJECT_SIZE': None, u'ADDRESS_CITY': u'Arth', u'PROJECT_PARCELID': u'3573', u'DETAIL_SOLAR': False, u'PROJECT_ID': u'173BX2532', u'ADDRESS_COUNTRY': u'CH', u'DATE_UPDATE': u'2019-05-15T13:01:52.77+01:00', u'PROJECT_TITLE': u'Mehrfamilienhaus', u'ADDRESS_STREET1': u'Luzernerstrasse 27', u'DATE_PUBLICATION': u'2019-05-06T07:06:01+01:00', u'PROJECT_INRESEARCH': False, u'ADDRESS_STREET2': None, u'DETAIL_ROOFTYPE': None, u'DETAIL_CLADDING': u'Holz', u'PROJECT_LANGUAGE': u'DE', u'PROJECT_VALUE': 0, u'PROJECT_APARTMENTS': 3.0, u'PROJECT_BUILDINGS': 1.0, u'ADDRESS_CANTON': u'SZ', u'DETAIL_MATERIALS': u'Holzbau', u'PROJECT_VOLUME': None, u'DATE_INSERTION': u'2019-05-06T07:04:04.883+01:00', u'PROJECT_NOTE': None, u'ADDRESS_COUNTY': u'Bezirk Schwyz', u'PROJECT_PLANNINGSTAGE': u'Baugesuch eingereicht', u'PROJECT_FLOORS': 3.0, u'DATE_PLANNINGAPPROVAL': None, u'ADDRESS_STREET3': None, u'PROJECT_FINALUSE': u'Eigentum und Miete'}\n",
      "{u'DETAIL_HEATING': None, u'PROJECT_DESCRIPTION': u'Costruzione nuovo capannone', u'ADDRESS_POSTALCODE': 6595, u'DATE_STARTCONSTRUCTION': None, u'PROJECT_SIZE': None, u'ADDRESS_CITY': u'Riazzino', u'PROJECT_PARCELID': u'6104', u'DETAIL_SOLAR': False, u'PROJECT_ID': u'71BX69543', u'ADDRESS_COUNTRY': u'CH', u'DATE_UPDATE': u'2019-05-15T13:01:47.123+01:00', u'PROJECT_TITLE': u'Costruzione nuovo capannone', u'ADDRESS_STREET1': u'via al Pizzante', u'DATE_PUBLICATION': u'2017-05-05T10:46:22+01:00', u'PROJECT_INRESEARCH': False, u'ADDRESS_STREET2': None, u'DETAIL_ROOFTYPE': None, u'DETAIL_CLADDING': u'unbestimmt', u'PROJECT_LANGUAGE': u'IT', u'PROJECT_VALUE': 800000.0, u'PROJECT_APARTMENTS': None, u'PROJECT_BUILDINGS': 1.0, u'ADDRESS_CANTON': u'TI', u'DETAIL_MATERIALS': None, u'PROJECT_VOLUME': None, u'DATE_INSERTION': u'2017-05-05T10:44:14.23+01:00', u'PROJECT_NOTE': u'Pubblicato a Locarno deposito veicoli storici e natanti', u'ADDRESS_COUNTY': u'Distretto di Locarno', u'PROJECT_PLANNINGSTAGE': u'Baugesuch eingereicht', u'PROJECT_FLOORS': None, u'DATE_PLANNINGAPPROVAL': None, u'ADDRESS_STREET3': None, u'PROJECT_FINALUSE': None}\n",
      "{u'DETAIL_HEATING': None, u'PROJECT_DESCRIPTION': u\"Installazione impianto climatizzazione edifcio d'abitazione\", u'ADDRESS_POSTALCODE': 6596, u'DATE_STARTCONSTRUCTION': None, u'PROJECT_SIZE': None, u'ADDRESS_CITY': u'Gordola', u'PROJECT_PARCELID': u'3120', u'DETAIL_SOLAR': False, u'PROJECT_ID': u'114BX576420', u'ADDRESS_COUNTRY': u'CH', u'DATE_UPDATE': u'2019-05-15T13:04:46.777+01:00', u'PROJECT_TITLE': u'Installazione impianto climatizzazione', u'ADDRESS_STREET1': u'Gaggiole', u'DATE_PUBLICATION': u'2019-05-15T13:04:46.77+01:00', u'PROJECT_INRESEARCH': False, u'ADDRESS_STREET2': None, u'DETAIL_ROOFTYPE': None, u'DETAIL_CLADDING': None, u'PROJECT_LANGUAGE': u'IT', u'PROJECT_VALUE': 0, u'PROJECT_APARTMENTS': None, u'PROJECT_BUILDINGS': None, u'ADDRESS_CANTON': u'TI', u'DETAIL_MATERIALS': None, u'PROJECT_VOLUME': None, u'DATE_INSERTION': u'2019-05-15T13:03:15.02+01:00', u'PROJECT_NOTE': None, u'ADDRESS_COUNTY': u'Distretto di Locarno', u'PROJECT_PLANNINGSTAGE': u'Baugesuch eingereicht', u'PROJECT_FLOORS': None, u'DATE_PLANNINGAPPROVAL': None, u'ADDRESS_STREET3': None, u'PROJECT_FINALUSE': None}\n",
      "{u'DETAIL_HEATING': None, u'PROJECT_DESCRIPTION': u'Ristrutturazione edificio monofamiliare: coibentazione, modifiche aperture esistenti, sistemazione esterna, nuovo locale accessorio deposito attrezzi', u'ADDRESS_POSTALCODE': 6596, u'DATE_STARTCONSTRUCTION': None, u'PROJECT_SIZE': None, u'ADDRESS_CITY': u'Gordola', u'PROJECT_PARCELID': u'2385', u'DETAIL_SOLAR': False, u'PROJECT_ID': u'114BX576428', u'ADDRESS_COUNTRY': u'CH', u'DATE_UPDATE': u'2019-05-15T13:16:05.03+01:00', u'PROJECT_TITLE': u'Ristrutturazione edificio monofamiliare', u'ADDRESS_STREET1': u'Scuole', u'DATE_PUBLICATION': u'2019-05-15T13:16:05.027+01:00', u'PROJECT_INRESEARCH': False, u'ADDRESS_STREET2': None, u'DETAIL_ROOFTYPE': None, u'DETAIL_CLADDING': None, u'PROJECT_LANGUAGE': u'IT', u'PROJECT_VALUE': 0, u'PROJECT_APARTMENTS': None, u'PROJECT_BUILDINGS': None, u'ADDRESS_CANTON': u'TI', u'DETAIL_MATERIALS': None, u'PROJECT_VOLUME': None, u'DATE_INSERTION': u'2019-05-15T13:14:23.997+01:00', u'PROJECT_NOTE': None, u'ADDRESS_COUNTY': u'Distretto di Locarno', u'PROJECT_PLANNINGSTAGE': u'Baugesuch eingereicht', u'PROJECT_FLOORS': None, u'DATE_PLANNINGAPPROVAL': None, u'ADDRESS_STREET3': None, u'PROJECT_FINALUSE': None}\n",
      "{u'DETAIL_HEATING': None, u'PROJECT_DESCRIPTION': u'Risanamento e riattazione edificio esistente', u'ADDRESS_POSTALCODE': 6710, u'DATE_STARTCONSTRUCTION': None, u'PROJECT_SIZE': None, u'ADDRESS_CITY': u'Biasca', u'PROJECT_PARCELID': u'3304', u'DETAIL_SOLAR': False, u'PROJECT_ID': u'114BX576430', u'ADDRESS_COUNTRY': u'CH', u'DATE_UPDATE': u'2019-05-15T13:24:37.52+01:00', u'PROJECT_TITLE': u'Risanamento e riattazione edificio', u'ADDRESS_STREET1': u'via Oliveto Rodoni 1', u'DATE_PUBLICATION': u'2019-05-15T13:24:37.517+01:00', u'PROJECT_INRESEARCH': False, u'ADDRESS_STREET2': None, u'DETAIL_ROOFTYPE': None, u'DETAIL_CLADDING': None, u'PROJECT_LANGUAGE': u'IT', u'PROJECT_VALUE': 0, u'PROJECT_APARTMENTS': None, u'PROJECT_BUILDINGS': None, u'ADDRESS_CANTON': u'TI', u'DETAIL_MATERIALS': None, u'PROJECT_VOLUME': None, u'DATE_INSERTION': u'2019-05-15T13:18:07.263+01:00', u'PROJECT_NOTE': None, u'ADDRESS_COUNTY': u'Distretto di Riviera', u'PROJECT_PLANNINGSTAGE': u'Baugesuch eingereicht', u'PROJECT_FLOORS': None, u'DATE_PLANNINGAPPROVAL': None, u'ADDRESS_STREET3': None, u'PROJECT_FINALUSE': None}\n",
      "{u'DETAIL_HEATING': None, u'PROJECT_DESCRIPTION': u'Variante del 10.05.2019: adeguamento spazi interni, quote piani e posteggi esterni stabile industriale, amministrativo e commerciale', u'ADDRESS_POSTALCODE': 6814, u'DATE_STARTCONSTRUCTION': None, u'PROJECT_SIZE': None, u'ADDRESS_CITY': u'Lamone', u'PROJECT_PARCELID': u'394', u'DETAIL_SOLAR': False, u'PROJECT_ID': u'114BX576378', u'ADDRESS_COUNTRY': u'CH', u'DATE_UPDATE': u'2019-05-15T12:20:12.63+01:00', u'PROJECT_TITLE': u'Variante: adeguamento spazi interni', u'ADDRESS_STREET1': u'Prati di l\\xe1', u'DATE_PUBLICATION': u'2019-05-15T12:20:12.627+01:00', u'PROJECT_INRESEARCH': False, u'ADDRESS_STREET2': None, u'DETAIL_ROOFTYPE': None, u'DETAIL_CLADDING': None, u'PROJECT_LANGUAGE': u'IT', u'PROJECT_VALUE': 0, u'PROJECT_APARTMENTS': None, u'PROJECT_BUILDINGS': None, u'ADDRESS_CANTON': u'TI', u'DETAIL_MATERIALS': None, u'PROJECT_VOLUME': None, u'DATE_INSERTION': u'2019-05-15T12:17:29.43+01:00', u'PROJECT_NOTE': None, u'ADDRESS_COUNTY': u'Distretto di Lugano', u'PROJECT_PLANNINGSTAGE': u'Baugesuch eingereicht', u'PROJECT_FLOORS': None, u'DATE_PLANNINGAPPROVAL': None, u'ADDRESS_STREET3': None, u'PROJECT_FINALUSE': None}\n",
      "{u'DETAIL_HEATING': None, u'PROJECT_DESCRIPTION': u'Installazione tende da sole verticali', u'ADDRESS_POSTALCODE': 6944, u'DATE_STARTCONSTRUCTION': None, u'PROJECT_SIZE': None, u'ADDRESS_CITY': u'Cureglia', u'PROJECT_PARCELID': u'664', u'DETAIL_SOLAR': False, u'PROJECT_ID': u'114BX576364', u'ADDRESS_COUNTRY': u'CH', u'DATE_UPDATE': u'2019-05-15T12:07:27.067+01:00', u'PROJECT_TITLE': u'Installazione tende da sole verticali', u'ADDRESS_STREET1': u'St\\xf3scia', u'DATE_PUBLICATION': u'2019-05-15T12:07:27.063+01:00', u'PROJECT_INRESEARCH': False, u'ADDRESS_STREET2': None, u'DETAIL_ROOFTYPE': None, u'DETAIL_CLADDING': None, u'PROJECT_LANGUAGE': u'IT', u'PROJECT_VALUE': 0, u'PROJECT_APARTMENTS': None, u'PROJECT_BUILDINGS': None, u'ADDRESS_CANTON': u'TI', u'DETAIL_MATERIALS': None, u'PROJECT_VOLUME': None, u'DATE_INSERTION': u'2019-05-15T12:02:01.92+01:00', u'PROJECT_NOTE': None, u'ADDRESS_COUNTY': u'Distretto di Lugano', u'PROJECT_PLANNINGSTAGE': u'Baugesuch eingereicht', u'PROJECT_FLOORS': None, u'DATE_PLANNINGAPPROVAL': None, u'ADDRESS_STREET3': None, u'PROJECT_FINALUSE': None}\n",
      "{u'DETAIL_HEATING': None, u'PROJECT_DESCRIPTION': u\"Cambio di destinazione d'uso da 2 abitazioni primarie a 2 secondarie\", u'ADDRESS_POSTALCODE': 6596, u'DATE_STARTCONSTRUCTION': None, u'PROJECT_SIZE': None, u'ADDRESS_CITY': u'Gordola', u'PROJECT_PARCELID': u'2278', u'DETAIL_SOLAR': False, u'PROJECT_ID': u'114BX576416', u'ADDRESS_COUNTRY': u'CH', u'DATE_UPDATE': u'2019-05-15T13:01:58.393+01:00', u'PROJECT_TITLE': u'Cambio destinazione abitazione', u'ADDRESS_STREET1': u'via Sasso Misocco', u'DATE_PUBLICATION': u'2019-05-15T13:01:58.343+01:00', u'PROJECT_INRESEARCH': False, u'ADDRESS_STREET2': None, u'DETAIL_ROOFTYPE': None, u'DETAIL_CLADDING': None, u'PROJECT_LANGUAGE': u'IT', u'PROJECT_VALUE': 0, u'PROJECT_APARTMENTS': None, u'PROJECT_BUILDINGS': None, u'ADDRESS_CANTON': u'TI', u'DETAIL_MATERIALS': None, u'PROJECT_VOLUME': None, u'DATE_INSERTION': u'2019-05-15T13:00:25.5+01:00', u'PROJECT_NOTE': None, u'ADDRESS_COUNTY': u'Distretto di Locarno', u'PROJECT_PLANNINGSTAGE': u'Baugesuch eingereicht', u'PROJECT_FLOORS': None, u'DATE_PLANNINGAPPROVAL': None, u'ADDRESS_STREET3': None, u'PROJECT_FINALUSE': None}\n",
      "{u'DETAIL_HEATING': None, u'PROJECT_DESCRIPTION': u'Riattazione edificio bifamiliare', u'ADDRESS_POSTALCODE': 6596, u'DATE_STARTCONSTRUCTION': None, u'PROJECT_SIZE': None, u'ADDRESS_CITY': u'Gordola', u'PROJECT_PARCELID': u'1245', u'DETAIL_SOLAR': False, u'PROJECT_ID': u'114BX576424', u'ADDRESS_COUNTRY': u'CH', u'DATE_UPDATE': u'2019-05-15T13:12:18.043+01:00', u'PROJECT_TITLE': u'Riattazione edificio bifamiliare', u'ADDRESS_STREET1': u'Rongia', u'DATE_PUBLICATION': u'2019-05-15T13:12:18.04+01:00', u'PROJECT_INRESEARCH': False, u'ADDRESS_STREET2': None, u'DETAIL_ROOFTYPE': None, u'DETAIL_CLADDING': None, u'PROJECT_LANGUAGE': u'IT', u'PROJECT_VALUE': 0, u'PROJECT_APARTMENTS': None, u'PROJECT_BUILDINGS': None, u'ADDRESS_CANTON': u'TI', u'DETAIL_MATERIALS': None, u'PROJECT_VOLUME': None, u'DATE_INSERTION': u'2019-05-15T13:07:13.303+01:00', u'PROJECT_NOTE': None, u'ADDRESS_COUNTY': u'Distretto di Locarno', u'PROJECT_PLANNINGSTAGE': u'Baugesuch eingereicht', u'PROJECT_FLOORS': None, u'DATE_PLANNINGAPPROVAL': None, u'ADDRESS_STREET3': None, u'PROJECT_FINALUSE': None}\n",
      "{u'DETAIL_HEATING': None, u'PROJECT_DESCRIPTION': u'Abbruch Geb\\xe4ude und Neubau 3-Familienhaus', u'ADDRESS_POSTALCODE': 8911, u'DATE_STARTCONSTRUCTION': u'2019-12-01T00:00:00+00:00', u'PROJECT_SIZE': None, u'ADDRESS_CITY': u'Rifferswil', u'PROJECT_PARCELID': u'1509', u'DETAIL_SOLAR': False, u'PROJECT_ID': u'95BX97445', u'ADDRESS_COUNTRY': u'CH', u'DATE_UPDATE': u'2019-05-15T12:37:42.65+01:00', u'PROJECT_TITLE': u'Neubau 3-Familienhaus', u'ADDRESS_STREET1': u'Albisstrasse 9', u'DATE_PUBLICATION': u'2019-04-09T07:44:32+01:00', u'PROJECT_INRESEARCH': False, u'ADDRESS_STREET2': None, u'DETAIL_ROOFTYPE': u'Steildach', u'DETAIL_CLADDING': u'unbestimmt', u'PROJECT_LANGUAGE': u'DE', u'PROJECT_VALUE': 2000000.0, u'PROJECT_APARTMENTS': 3.0, u'PROJECT_BUILDINGS': 1.0, u'ADDRESS_CANTON': u'ZH', u'DETAIL_MATERIALS': None, u'PROJECT_VOLUME': None, u'DATE_INSERTION': u'2019-04-09T07:40:40.623+01:00', u'PROJECT_NOTE': None, u'ADDRESS_COUNTY': u'Bezirk Affoltern', u'PROJECT_PLANNINGSTAGE': u'Baugesuch eingereicht', u'PROJECT_FLOORS': 3.0, u'DATE_PLANNINGAPPROVAL': None, u'ADDRESS_STREET3': None, u'PROJECT_FINALUSE': u'zur Miete'}\n",
      "Done!\n"
     ]
    }
   ],
   "source": [
    "preprocess(in_test_mode=True, file_name='df_projects.avro', \n",
    "           project_id=PROJECT, bucket_id=BUCKET, \n",
    "           dataset_id=DATASET, table_id='df_projects', list_name=project_list)\n"
   ]
  },
  {
   "cell_type": "code",
   "execution_count": 10,
   "metadata": {},
   "outputs": [
    {
     "name": "stdout",
     "output_type": "stream",
     "text": [
      "Launching local job ... hang on\n",
      "./preproc/df_buildings.csv-00000-of-00001\n",
      "Done!\n"
     ]
    }
   ],
   "source": [
    "preprocess(in_test_mode=True, file_name='df_buildings.avro', \n",
    "           project_id=PROJECT, bucket_id=BUCKET, \n",
    "           dataset_id=DATASET, table_id='df_buildings', list_name=building_list)"
   ]
  },
  {
   "cell_type": "code",
   "execution_count": 13,
   "metadata": {},
   "outputs": [
    {
     "name": "stdout",
     "output_type": "stream",
     "text": [
      "Launching local job ... hang on\n",
      "./preproc/df_contacts.csv-00000-of-00001\n",
      "Done!\n"
     ]
    }
   ],
   "source": [
    "preprocess(in_test_mode=True, file_name='df_contacts.avro', \n",
    "           project_id=PROJECT, bucket_id=BUCKET, \n",
    "           dataset_id=DATASET, table_id='df_contacts', list_name=contact_list)"
   ]
  },
  {
   "cell_type": "code",
   "execution_count": 23,
   "metadata": {},
   "outputs": [
    {
     "ename": "NameError",
     "evalue": "name 'ro2w' is not defined",
     "output_type": "error",
     "traceback": [
      "\u001b[0;31m\u001b[0m",
      "\u001b[0;31mNameError\u001b[0mTraceback (most recent call last)",
      "\u001b[0;32m<ipython-input-23-f88aaaad57ba>\u001b[0m in \u001b[0;36m<module>\u001b[0;34m()\u001b[0m\n\u001b[1;32m      3\u001b[0m     \u001b[0mspamreader\u001b[0m \u001b[0;34m=\u001b[0m \u001b[0mcsv\u001b[0m\u001b[0;34m.\u001b[0m\u001b[0mreader\u001b[0m\u001b[0;34m(\u001b[0m\u001b[0mcsvfile\u001b[0m\u001b[0;34m,\u001b[0m \u001b[0mdelimiter\u001b[0m\u001b[0;34m=\u001b[0m\u001b[0;34m','\u001b[0m\u001b[0;34m)\u001b[0m\u001b[0;34m\u001b[0m\u001b[0m\n\u001b[1;32m      4\u001b[0m     \u001b[0;32mfor\u001b[0m \u001b[0mrow\u001b[0m \u001b[0;32min\u001b[0m \u001b[0mspamreader\u001b[0m\u001b[0;34m:\u001b[0m\u001b[0;34m\u001b[0m\u001b[0m\n\u001b[0;32m----> 5\u001b[0;31m         \u001b[0;32mprint\u001b[0m \u001b[0;34m', '\u001b[0m\u001b[0;34m.\u001b[0m\u001b[0mjoin\u001b[0m\u001b[0;34m(\u001b[0m\u001b[0mro2w\u001b[0m\u001b[0;34m)\u001b[0m\u001b[0;34m\u001b[0m\u001b[0m\n\u001b[0m",
      "\u001b[0;31mNameError\u001b[0m: name 'ro2w' is not defined"
     ]
    }
   ],
   "source": [
    "import csv\n",
    "with open('./preproc/df_projects.csv-00000-of-00001', 'rb') as csvfile:\n",
    "    spamreader = csv.reader(csvfile, delimiter=',')\n",
    "    for row in spamreader:\n",
    "        print ', '.join(row)"
   ]
  },
  {
   "cell_type": "code",
   "execution_count": 16,
   "metadata": {},
   "outputs": [],
   "source": [
    "import csv\n",
    "with open('./preproc/df_projects.csv-00000-of-00001', 'rb') as csvfile:\n",
    "    spamreader = csv.reader(csvfile, delimiter=',')\n",
    "    your_list = list(spamreader)"
   ]
  },
  {
   "cell_type": "code",
   "execution_count": 21,
   "metadata": {},
   "outputs": [
    {
     "data": {
      "text/plain": [
       "[\"{u'DETAIL_HEATING': None\",\n",
       " \" u'PROJECT_DESCRIPTION': u'Abbruch des bestehenden Satteldaches und Aufstockung auf das bestehende Einfamilienhaus sowie neue Aussenw\\\\xe4rmed\\\\xe4mmung'\",\n",
       " \" u'ADDRESS_POSTALCODE': 3052\",\n",
       " \" u'DATE_STARTCONSTRUCTION': None\",\n",
       " \" u'PROJECT_SIZE': None\",\n",
       " \" u'ADDRESS_CITY': u'Zollikofen'\",\n",
       " \" u'PROJECT_PARCELID': u'932'\",\n",
       " \" u'PROJECT_FLOORS': None\",\n",
       " \" u'PROJECT_ID': u'114BX576380'\",\n",
       " \" u'ADDRESS_COUNTRY': u'CH'\",\n",
       " \" u'PROJECT_TITLE': u'Aufstockung Einfamilienhaus\",\n",
       " \" Aussenw\\\\xe4rmed\\\\xe4mmung'\",\n",
       " \" u'ADDRESS_STREET1': u'Starenweg 10'\",\n",
       " \" u'DATE_PUBLICATION': u'2019-05-15T12:21:55.033+01:00'\",\n",
       " \" u'PROJECT_INRESEARCH': False\",\n",
       " \" u'ADDRESS_STREET2': None\",\n",
       " \" u'DETAIL_ROOFTYPE': None\",\n",
       " \" u'DETAIL_CLADDING': u'unbestimmt'\",\n",
       " \" u'PROJECT_LANGUAGE': u'DE'\",\n",
       " \" u'PROJECT_VALUE': 0\",\n",
       " \" u'PROJECT_APARTMENTS': None\",\n",
       " \" u'PROJECT_BUILDINGS': None\",\n",
       " \" u'DETAIL_MATERIALS': None\",\n",
       " \" u'ADDRESS_CANTON': u'BE'\",\n",
       " \" u'PROJECT_VOLUME': None\",\n",
       " \" u'ADDRESS_COUNTY': u'Amtsbezirk Bern'\",\n",
       " \" u'DATE_INSERTION': u'2019-05-15T12:18:54.51+01:00'\",\n",
       " \" u'PROJECT_NOTE': None\",\n",
       " \" u'DATE_UPDATE': u'2019-05-15T12:21:55.04+01:00'\",\n",
       " \" u'PROJECT_PLANNINGSTAGE': u'Baugesuch eingereicht'\",\n",
       " \" u'DETAIL_SOLAR': False\",\n",
       " \" u'DATE_PLANNINGAPPROVAL': None\",\n",
       " \" u'ADDRESS_STREET3': None\",\n",
       " \" u'PROJECT_FINALUSE': None}\"]"
      ]
     },
     "execution_count": 21,
     "metadata": {},
     "output_type": "execute_result"
    }
   ],
   "source": [
    "your_list[0]"
   ]
  },
  {
   "cell_type": "markdown",
   "metadata": {},
   "source": [
    "## FINAL - Read avro, transform an write to bigquery"
   ]
  },
  {
   "cell_type": "code",
   "execution_count": 67,
   "metadata": {},
   "outputs": [
    {
     "name": "stdout",
     "output_type": "stream",
     "text": [
      "2.1\n"
     ]
    }
   ],
   "source": [
    "#2.1   Update Database\n",
    "print(\"2.1\")\n",
    "# https://beam.apache.org/documentation/io/built-in/google-bigquery/\n",
    "# https://beam.apache.org/documentation/programming-guide/#pcollections\n",
    "import apache_beam as beam\n",
    "import datetime\n",
    "import shutil, os, subprocess\n",
    "from apache_beam.io.gcp.internal.clients import bigquery\n",
    "\n",
    "DATASET = 'BINDEXIS'\n",
    "\n",
    "def preprocess(in_test_mode, file_name, project_id, bucket_id, dataset_id, table_id, list_name):\n",
    "    import shutil, os, subprocess\n",
    "    job_name = 'bindexis-dataload' + '-' + file_name + '-' + datetime.datetime.now().strftime('%y%m%d-%H%M%S')\n",
    "\n",
    "    table_spec = bigquery.TableReference(\n",
    "        projectId=project_id,\n",
    "        datasetId=dataset_id,\n",
    "        tableId=table_id)\n",
    "\n",
    "    table_schema = {\n",
    "        \"fields\": [{\"name\": i[0] , \"type\": i[2].replace('INT','INTEGER').replace(\"TIMESTAMP\",\"DATETIME\")} for i in list_name]\n",
    "    }\n",
    "\n",
    "    if in_test_mode:\n",
    "        print('Launching local job ... hang on')\n",
    "        OUTPUT_DIR = './preproc'\n",
    "        shutil.rmtree(OUTPUT_DIR, ignore_errors=True)\n",
    "        os.makedirs(OUTPUT_DIR)\n",
    "    else:\n",
    "        print('Launching Dataflow job {} ... hang on'.format(job_name))\n",
    "        OUTPUT_DIR = 'gs://{0}/bindexis/data/various/'.format(bucket_id)\n",
    "        try:\n",
    "            subprocess.check_call('gsutil -m rm -r {}'.format(OUTPUT_DIR).split())\n",
    "        except:\n",
    "            pass\n",
    "\n",
    "    options = {\n",
    "        'staging_location': os.path.join(OUTPUT_DIR, 'tmp', 'staging'),\n",
    "        'temp_location': os.path.join(OUTPUT_DIR, 'tmp'),\n",
    "        'job_name': job_name,\n",
    "        'project': project_id,\n",
    "        'region': REGION,\n",
    "        'teardown_policy': 'TEARDOWN_ALWAYS',\n",
    "        'no_save_main_session': True\n",
    "    }\n",
    "    opts = beam.pipeline.PipelineOptions(flags = [], **options)\n",
    "\n",
    "    if in_test_mode:\n",
    "        RUNNER = 'DirectRunner'\n",
    "    else:\n",
    "        RUNNER = 'DataflowRunner'\n",
    "    p = beam.Pipeline(RUNNER, options = opts)\n",
    "\n",
    "    import json\n",
    "    \n",
    "    # Transformations\n",
    "    \n",
    "    #General Data Preparation        \n",
    "    class data_cleanser(beam.DoFn):\n",
    "        def process(self, data_item):    \n",
    "            data_item = json.dumps(data_item, separators=(',', ': '))\n",
    "            data_item = json.loads(data_item)\n",
    "            \n",
    "            for i in list_name: \n",
    "                #if i[0] in [\"PROJECT_INRESEARCH\", \"DETAIL_SOLAR\"]: df[i[0]] = df[i[0]].apply(lambda x: 1 if x == \"True\" else 0)\n",
    "                #elif i[2]     == \"TIMESTAMP\": df[i[0]] = df[i[0]].apply(lambda x: pd.to_datetime(x, format = \"%Y-%m-%dT%H:%M:%S\")).fillna(datetime.datetime(1900,1,1))\n",
    "                #elif i[2]     == \"FLOAT\":     df[i[0]] = df[i[0]].astype(float).fillna(0)\n",
    "                if (i[2]     == \"STRING\") & (data_item[i[0]]!=None):    data_item[i[0]] = data_item[i[0]].replace(\"\\r\\n\", \" \").replace(\"\\n\", \" \")\n",
    "                elif (i[2]     == \"TIMESTAMP\") & (data_item[i[0]]!=None):    data_item[i[0]] = data_item[i[0]][:-6]\n",
    "            \n",
    "            #Cleaning df_projects\n",
    "            if table_id=='df_projects':\n",
    "                data_item = json.dumps(data_item, separators=(',', ': '))\n",
    "                data_item = json.loads(data_item)\n",
    "                data_item['ADDRESS_CANTON'] = unicode(canton_dict[data_item['ADDRESS_CANTON']], \"utf-8\")\n",
    "                data_item['PROJECT_LANGUAGE'] = data_item['PROJECT_LANGUAGE'][0:2].upper()\n",
    "                data_item[\"PROJECT_FINALUSE\"] = unicode(description_dict['ProjectFinalUse'][data_item[\"PROJECT_FINALUSE\"]], \"utf-8\") if data_item[\"PROJECT_FINALUSE\"]!=None else data_item[\"PROJECT_FINALUSE\"]\n",
    "                data_item[\"PROJECT_VALUE\"] = 0 if data_item[\"PROJECT_VALUE\"] < 0 else data_item[\"PROJECT_VALUE\"]\n",
    "                \n",
    "            #Cleaning df_contacts\n",
    "            if table_id=='df_contacts':\n",
    "                def phone_number_sanitizer(x):\n",
    "                    if x == None or x==\"\":                     return None\n",
    "                    else: x = x.replace(\" \", \"\")\n",
    "\n",
    "                    if any(c.isalpha() for c in x):     return None\n",
    "                    elif (x[0] == \"0\") & (x[1] != \"0\"): return \"+41\" + x[1:]\n",
    "                    elif x[:2] == \"00\":                 return \"+\" + x[2:]\n",
    "                    return \n",
    "\n",
    "                data_item[\"ORG_PHONE\"]     = phone_number_sanitizer(data_item[\"ORG_PHONE\"])\n",
    "                data_item[\"PERSON_PHONE\"]  = phone_number_sanitizer(data_item[\"PERSON_PHONE\"])\n",
    "                data_item[\"PERSON_MOBILE\"] = phone_number_sanitizer(data_item[\"PERSON_MOBILE\"])\n",
    "\n",
    "            yield data_item\n",
    "\n",
    "            \n",
    "    class Printer(beam.DoFn):\n",
    "        def process(self,data_item):\n",
    "            print (data_item)\n",
    "\n",
    "            \n",
    "#    #2.1 Delete Records\n",
    "#    if i==\"projects\":\n",
    "#        tmp_del = list(df_projects[\"PROJECT_ID\"].unique())\n",
    "#    elif i==\"buildings\":\n",
    "#        tmp_del = list(df_buildings[\"PROJECT_ID\"].unique())\n",
    "#    elif i==\"contacts\":\n",
    "#        tmp_del = list(df_contacts[\"PROJECT_ID\"].unique())\n",
    "#\n",
    "#    client_bq.query(\"\"\"DELETE FROM {0}.bindexis_bau_{1} where PROJECT_ID IN \n",
    "#            (SELECT *\n",
    "#           FROM UNNEST({2})\n",
    "#              AS PROJECT_ID)\"\"\".format(dataset_id,i,tmp_del)).result()\n",
    "        \n",
    "        \n",
    "    # Write the file\n",
    "    (p\n",
    "        | 'ReadAvroFromGCS' >> beam.io.avroio.ReadFromAvro('gs://{0}/{1}{2}'.format(BUCKET,path_data_va,file_name))\n",
    "#        | 'ReadAvroFromGCS' >> beam.io.avroio.ReadFromAvro(file_name)\n",
    "        #| beam.Map(json.dumps)\n",
    "        #| beam.Map(json.loads)\n",
    "        | 'data_cleanser' >> beam.ParDo(data_cleanser(list_name))\n",
    "        | 'WriteToBigQuery' >> beam.io.WriteToBigQuery(\n",
    "            table_spec,\n",
    "            schema=table_schema,\n",
    "            #write_disposition=beam.io.BigQueryDisposition.WRITE_TRUNCATE,\n",
    "            write_disposition=beam.io.BigQueryDisposition.WRITE_APPEND,\n",
    "            create_disposition=beam.io.BigQueryDisposition.CREATE_IF_NEEDED)\n",
    "        #| 'write_out' >> beam.io.Write(beam.io.WriteToText(os.path.join(OUTPUT_DIR, '{}.csv'.format(table_id)), num_shards=1))\n",
    "        #| 'Printer the data 01' >> beam.ParDo(Printer())\n",
    "        )\n",
    "\n",
    "    # Run the pipeline\n",
    "    job = p.run()\n",
    "    if in_test_mode:\n",
    "        job.wait_until_finish()\n",
    "        print(\"Done!\")\n"
   ]
  },
  {
   "cell_type": "code",
   "execution_count": 69,
   "metadata": {},
   "outputs": [
    {
     "name": "stdout",
     "output_type": "stream",
     "text": [
      "Launching local job ... hang on\n",
      "Done!\n"
     ]
    }
   ],
   "source": [
    "preprocess(in_test_mode=True, file_name='df_projects.avro', \n",
    "           project_id=PROJECT, bucket_id=BUCKET, \n",
    "           dataset_id=DATASET, table_id='bindexis_bau_projects2', list_name=project_list)\n"
   ]
  },
  {
   "cell_type": "code",
   "execution_count": 70,
   "metadata": {},
   "outputs": [
    {
     "name": "stdout",
     "output_type": "stream",
     "text": [
      "Launching local job ... hang on\n",
      "Done!\n"
     ]
    }
   ],
   "source": [
    "preprocess(in_test_mode=True, file_name='df_buildings.avro', \n",
    "           project_id=PROJECT, bucket_id=BUCKET, \n",
    "           dataset_id=DATASET, table_id='bindexis_bau_buildings2', list_name=building_list)"
   ]
  },
  {
   "cell_type": "code",
   "execution_count": 71,
   "metadata": {},
   "outputs": [
    {
     "name": "stdout",
     "output_type": "stream",
     "text": [
      "Launching local job ... hang on\n",
      "Done!\n"
     ]
    }
   ],
   "source": [
    "preprocess(in_test_mode=True, file_name='df_contacts.avro', \n",
    "           project_id=PROJECT, bucket_id=BUCKET, \n",
    "           dataset_id=DATASET, table_id='bindexis_bau_contacts2', list_name=contact_list)"
   ]
  },
  {
   "cell_type": "code",
   "execution_count": null,
   "metadata": {},
   "outputs": [],
   "source": [
    "#3.2 Speicherung Parameter & Backup bei erfolgreichem Lauf\n",
    "print(\"3.2\")\n",
    "if stage == \"DEV\": \n",
    "    filename = \"{}/Parameter_TimeLastRun.pkl\".format(tempfile.gettempdir())\n",
    "    with open(filename, 'wb') as fp: pickle.dump(time_now, fp)\n",
    "    blob = bucket_cs.blob(path_data_va+'Parameter_TimeLastRun.pkl')\n",
    "    blob.upload_from_filename(filename)"
   ]
  },
  {
   "cell_type": "code",
   "execution_count": 66,
   "metadata": {},
   "outputs": [
    {
     "name": "stdout",
     "output_type": "stream",
     "text": [
      "Table BINDEXIS.bindexis_bau_projects2 created new\n",
      "Table BINDEXIS.bindexis_bau_buildings2 created new\n",
      "Table BINDEXIS.bindexis_bau_contacts2 created new\n"
     ]
    }
   ],
   "source": [
    "#4   Auxiliary Functions\n",
    "#4.2 Reset Bigquery Tables\n",
    "# https://cloud.google.com/bigquery/docs/tables\n",
    "from google.cloud import bigquery\n",
    "client_bq = bigquery.Client()\n",
    "dataset_id = 'BINDEXIS'\n",
    "\n",
    "def aux_reset_bigquery(list_name, table_name):\n",
    "    try:\n",
    "        table_ref = client_bq.dataset(dataset_id).table(table_name)\n",
    "        client_bq.delete_table(table_ref)  # API request\n",
    "        print(\"Table {}.{} deleted and created new\".format(dataset_id,table_name))\n",
    "    except:\n",
    "        print(\"Table {}.{} created new\".format(dataset_id,table_name))\n",
    "    \n",
    "    schema = [bigquery.SchemaField(i[0], i[2].replace('INT','INTEGER').replace(\"TIMESTAMP\",\"DATETIME\")) for i in list_name]\n",
    "    table_ref = client_bq.dataset(dataset_id).table(table_name)\n",
    "    table = bigquery.Table(table_ref, schema=schema)\n",
    "    table = client_bq.create_table(table)  # API request\n",
    "\n",
    "    assert table.table_id == table_name\n",
    "    return\n",
    "   \n",
    "aux_reset_bigquery(project_list, \"bindexis_bau_projects2\")\n",
    "aux_reset_bigquery(building_list,  \"bindexis_bau_buildings2\")\n",
    "aux_reset_bigquery(contact_list, \"bindexis_bau_contacts2\")"
   ]
  }
 ],
 "metadata": {
  "kernelspec": {
   "display_name": "Python 2",
   "language": "python",
   "name": "python2"
  },
  "language_info": {
   "codemirror_mode": {
    "name": "ipython",
    "version": 2
   },
   "file_extension": ".py",
   "mimetype": "text/x-python",
   "name": "python",
   "nbconvert_exporter": "python",
   "pygments_lexer": "ipython2",
   "version": "2.7.13"
  }
 },
 "nbformat": 4,
 "nbformat_minor": 2
}
