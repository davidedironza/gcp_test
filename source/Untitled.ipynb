{
 "cells": [
  {
   "cell_type": "code",
   "execution_count": 3,
   "metadata": {},
   "outputs": [
    {
     "data": {
      "text/plain": [
       "<module 'soa_gc' from '../functions/soa_gc.py'>"
      ]
     },
     "execution_count": 3,
     "metadata": {},
     "output_type": "execute_result"
    }
   ],
   "source": [
    "\n",
    "from google.cloud import bigquery\n",
    "client = bigquery.Client(location=\"europe-west6\")\n",
    "from google.cloud import storage\n",
    "\n",
    "# change these to try this notebook out\n",
    "BUCKET = 'axa-ch-raw-dev-dla'\n",
    "PROJECT = 'axa-ch-datalake-analytics-dev'\n",
    "REGION = 'eu-west6'\n",
    "\n",
    "import re\n",
    "import random\n",
    "import locale\n",
    "import traceback\n",
    "import pandas as pd\n",
    "import pickle\n",
    "import datetime\n",
    "import pytz\n",
    "import time\n",
    "import os\n",
    "import importlib\n",
    "import tempfile\n",
    "import sys\n",
    "sys.path.insert(0, '../functions')\n",
    "  \n",
    "import auxiliary_gc as aux\n",
    "importlib.reload(aux)\n",
    "\n",
    "import campaign_management_gc as cm\n",
    "importlib.reload(cm)\n",
    "\n",
    "#import functions.soa_gc as soa\n",
    "import soa_gc as soa\n",
    "importlib.reload(soa)"
   ]
  }
 ],
 "metadata": {
  "kernelspec": {
   "display_name": "Python 3",
   "language": "python",
   "name": "python3"
  },
  "language_info": {
   "codemirror_mode": {
    "name": "ipython",
    "version": 3
   },
   "file_extension": ".py",
   "mimetype": "text/x-python",
   "name": "python",
   "nbconvert_exporter": "python",
   "pygments_lexer": "ipython3",
   "version": "3.5.3"
  }
 },
 "nbformat": 4,
 "nbformat_minor": 2
}
